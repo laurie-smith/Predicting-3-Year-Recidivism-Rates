{
 "cells": [
  {
   "cell_type": "code",
   "execution_count": null,
   "metadata": {},
   "outputs": [],
   "source": [
    "#PREDICTING THREE YEAR RECIDIVISM RATES"
   ]
  },
  {
   "cell_type": "code",
   "execution_count": 1,
   "metadata": {},
   "outputs": [],
   "source": [
    "#Women Gang = False\n",
    "#Prison Offense = Property for all NaN\n",
    "#Supervision Risk Score = 6 for all NaN\n",
    "#Supervision Level NaN replaced with Standar, High, or Specialized based on Risk Score"
   ]
  },
  {
   "cell_type": "code",
   "execution_count": 2,
   "metadata": {
    "_cell_guid": "b1076dfc-b9ad-4769-8c92-a6c4dae69d19",
    "_uuid": "8f2839f25d086af736a60e9eeb907d3b93b6e0e5",
    "execution": {
     "iopub.execute_input": "2022-04-22T01:39:38.065409Z",
     "iopub.status.busy": "2022-04-22T01:39:38.065088Z",
     "iopub.status.idle": "2022-04-22T01:39:38.080797Z",
     "shell.execute_reply": "2022-04-22T01:39:38.080371Z",
     "shell.execute_reply.started": "2022-04-22T01:39:38.065381Z"
    }
   },
   "outputs": [
    {
     "data": {
      "text/plain": [
       "'C:\\\\Users\\\\gowgi\\\\Desktop\\\\pandas'"
      ]
     },
     "execution_count": 2,
     "metadata": {},
     "output_type": "execute_result"
    }
   ],
   "source": [
    "# This Python 3 environment comes with many helpful analytics libraries installed\n",
    "# It is defined by the kaggle/python Docker image: https://github.com/kaggle/docker-python\n",
    "# For example, here's several helpful packages to load\n",
    "\n",
    "import numpy as np # linear algebra\n",
    "import pandas as pd # data processing, CSV file I/O (e.g. pd.read_csv)\n",
    "\n",
    "# Input data files are available in the read-only \"../input/\" directory\n",
    "# For example, running this (by clicking run or pressing Shift+Enter) will list all files under the input directory\n",
    "\n",
    "#import os\n",
    "#for dirname, _, filenames in os.walk('/kaggle/input'):\n",
    "    #for filename in filenames:\n",
    "        #print(os.path.join(dirname, filename))\n",
    "        \n",
    "\n",
    "import os\n",
    "\n",
    "# Change the working directory\n",
    "os.chdir(\"C:\\\\Users\\gowgi\\Desktop\\pandas\")\n",
    "os.getcwd()\n",
    "\n",
    "# You can write up to 20GB to the current directory (/kaggle/working/) that gets preserved as output when you create a version using \"Save & Run All\" \n",
    "# You can also write temporary files to /kaggle/temp/, but they won't be saved outside of the current session"
   ]
  },
  {
   "cell_type": "code",
   "execution_count": 3,
   "metadata": {
    "execution": {
     "iopub.execute_input": "2022-04-22T01:39:40.434492Z",
     "iopub.status.busy": "2022-04-22T01:39:40.433556Z",
     "iopub.status.idle": "2022-04-22T01:39:40.608529Z",
     "shell.execute_reply": "2022-04-22T01:39:40.607596Z",
     "shell.execute_reply.started": "2022-04-22T01:39:40.434459Z"
    }
   },
   "outputs": [
    {
     "data": {
      "text/html": [
       "<div>\n",
       "<style scoped>\n",
       "    .dataframe tbody tr th:only-of-type {\n",
       "        vertical-align: middle;\n",
       "    }\n",
       "\n",
       "    .dataframe tbody tr th {\n",
       "        vertical-align: top;\n",
       "    }\n",
       "\n",
       "    .dataframe thead th {\n",
       "        text-align: right;\n",
       "    }\n",
       "</style>\n",
       "<table border=\"1\" class=\"dataframe\">\n",
       "  <thead>\n",
       "    <tr style=\"text-align: right;\">\n",
       "      <th></th>\n",
       "      <th>ID</th>\n",
       "      <th>Gender</th>\n",
       "      <th>Race</th>\n",
       "      <th>Age_at_Release</th>\n",
       "      <th>Residence_PUMA</th>\n",
       "      <th>Gang_Affiliated</th>\n",
       "      <th>Supervision_Risk_Score_First</th>\n",
       "      <th>Supervision_Level_First</th>\n",
       "      <th>Education_Level</th>\n",
       "      <th>Dependents</th>\n",
       "      <th>...</th>\n",
       "      <th>DrugTests_Cocaine_Positive</th>\n",
       "      <th>DrugTests_Meth_Positive</th>\n",
       "      <th>DrugTests_Other_Positive</th>\n",
       "      <th>Percent_Days_Employed</th>\n",
       "      <th>Jobs_Per_Year</th>\n",
       "      <th>Employment_Exempt</th>\n",
       "      <th>Recidivism_Within_3years</th>\n",
       "      <th>Recidivism_Arrest_Year1</th>\n",
       "      <th>Recidivism_Arrest_Year2</th>\n",
       "      <th>Recidivism_Arrest_Year3</th>\n",
       "    </tr>\n",
       "  </thead>\n",
       "  <tbody>\n",
       "    <tr>\n",
       "      <th>0</th>\n",
       "      <td>1</td>\n",
       "      <td>M</td>\n",
       "      <td>BLACK</td>\n",
       "      <td>43-47</td>\n",
       "      <td>16</td>\n",
       "      <td>False</td>\n",
       "      <td>3.0</td>\n",
       "      <td>Standard</td>\n",
       "      <td>At least some college</td>\n",
       "      <td>3 or more</td>\n",
       "      <td>...</td>\n",
       "      <td>0.0</td>\n",
       "      <td>0.000000</td>\n",
       "      <td>0.0</td>\n",
       "      <td>0.488562</td>\n",
       "      <td>0.447610</td>\n",
       "      <td>False</td>\n",
       "      <td>False</td>\n",
       "      <td>False</td>\n",
       "      <td>False</td>\n",
       "      <td>False</td>\n",
       "    </tr>\n",
       "    <tr>\n",
       "      <th>1</th>\n",
       "      <td>2</td>\n",
       "      <td>M</td>\n",
       "      <td>BLACK</td>\n",
       "      <td>33-37</td>\n",
       "      <td>16</td>\n",
       "      <td>False</td>\n",
       "      <td>6.0</td>\n",
       "      <td>Specialized</td>\n",
       "      <td>Less than HS diploma</td>\n",
       "      <td>1</td>\n",
       "      <td>...</td>\n",
       "      <td>0.0</td>\n",
       "      <td>0.000000</td>\n",
       "      <td>0.0</td>\n",
       "      <td>0.425234</td>\n",
       "      <td>2.000000</td>\n",
       "      <td>False</td>\n",
       "      <td>True</td>\n",
       "      <td>False</td>\n",
       "      <td>False</td>\n",
       "      <td>True</td>\n",
       "    </tr>\n",
       "    <tr>\n",
       "      <th>2</th>\n",
       "      <td>3</td>\n",
       "      <td>M</td>\n",
       "      <td>BLACK</td>\n",
       "      <td>48 or older</td>\n",
       "      <td>24</td>\n",
       "      <td>False</td>\n",
       "      <td>7.0</td>\n",
       "      <td>High</td>\n",
       "      <td>At least some college</td>\n",
       "      <td>3 or more</td>\n",
       "      <td>...</td>\n",
       "      <td>0.0</td>\n",
       "      <td>0.166667</td>\n",
       "      <td>0.0</td>\n",
       "      <td>0.000000</td>\n",
       "      <td>0.000000</td>\n",
       "      <td>False</td>\n",
       "      <td>True</td>\n",
       "      <td>False</td>\n",
       "      <td>True</td>\n",
       "      <td>False</td>\n",
       "    </tr>\n",
       "    <tr>\n",
       "      <th>3</th>\n",
       "      <td>4</td>\n",
       "      <td>M</td>\n",
       "      <td>WHITE</td>\n",
       "      <td>38-42</td>\n",
       "      <td>16</td>\n",
       "      <td>False</td>\n",
       "      <td>7.0</td>\n",
       "      <td>High</td>\n",
       "      <td>Less than HS diploma</td>\n",
       "      <td>1</td>\n",
       "      <td>...</td>\n",
       "      <td>0.0</td>\n",
       "      <td>0.000000</td>\n",
       "      <td>0.0</td>\n",
       "      <td>1.000000</td>\n",
       "      <td>0.718996</td>\n",
       "      <td>False</td>\n",
       "      <td>False</td>\n",
       "      <td>False</td>\n",
       "      <td>False</td>\n",
       "      <td>False</td>\n",
       "    </tr>\n",
       "    <tr>\n",
       "      <th>4</th>\n",
       "      <td>5</td>\n",
       "      <td>M</td>\n",
       "      <td>WHITE</td>\n",
       "      <td>33-37</td>\n",
       "      <td>16</td>\n",
       "      <td>False</td>\n",
       "      <td>4.0</td>\n",
       "      <td>Specialized</td>\n",
       "      <td>Less than HS diploma</td>\n",
       "      <td>3 or more</td>\n",
       "      <td>...</td>\n",
       "      <td>0.0</td>\n",
       "      <td>0.058824</td>\n",
       "      <td>0.0</td>\n",
       "      <td>0.203562</td>\n",
       "      <td>0.929389</td>\n",
       "      <td>False</td>\n",
       "      <td>True</td>\n",
       "      <td>True</td>\n",
       "      <td>False</td>\n",
       "      <td>False</td>\n",
       "    </tr>\n",
       "  </tbody>\n",
       "</table>\n",
       "<p>5 rows × 53 columns</p>\n",
       "</div>"
      ],
      "text/plain": [
       "   ID Gender   Race Age_at_Release  Residence_PUMA Gang_Affiliated  \\\n",
       "0   1      M  BLACK          43-47              16           False   \n",
       "1   2      M  BLACK          33-37              16           False   \n",
       "2   3      M  BLACK    48 or older              24           False   \n",
       "3   4      M  WHITE          38-42              16           False   \n",
       "4   5      M  WHITE          33-37              16           False   \n",
       "\n",
       "   Supervision_Risk_Score_First Supervision_Level_First  \\\n",
       "0                           3.0                Standard   \n",
       "1                           6.0             Specialized   \n",
       "2                           7.0                    High   \n",
       "3                           7.0                    High   \n",
       "4                           4.0             Specialized   \n",
       "\n",
       "         Education_Level Dependents  ... DrugTests_Cocaine_Positive  \\\n",
       "0  At least some college  3 or more  ...                        0.0   \n",
       "1   Less than HS diploma          1  ...                        0.0   \n",
       "2  At least some college  3 or more  ...                        0.0   \n",
       "3   Less than HS diploma          1  ...                        0.0   \n",
       "4   Less than HS diploma  3 or more  ...                        0.0   \n",
       "\n",
       "  DrugTests_Meth_Positive DrugTests_Other_Positive Percent_Days_Employed  \\\n",
       "0                0.000000                      0.0              0.488562   \n",
       "1                0.000000                      0.0              0.425234   \n",
       "2                0.166667                      0.0              0.000000   \n",
       "3                0.000000                      0.0              1.000000   \n",
       "4                0.058824                      0.0              0.203562   \n",
       "\n",
       "  Jobs_Per_Year Employment_Exempt Recidivism_Within_3years  \\\n",
       "0      0.447610             False                    False   \n",
       "1      2.000000             False                     True   \n",
       "2      0.000000             False                     True   \n",
       "3      0.718996             False                    False   \n",
       "4      0.929389             False                     True   \n",
       "\n",
       "  Recidivism_Arrest_Year1  Recidivism_Arrest_Year2  Recidivism_Arrest_Year3  \n",
       "0                   False                    False                    False  \n",
       "1                   False                    False                     True  \n",
       "2                   False                     True                    False  \n",
       "3                   False                    False                    False  \n",
       "4                    True                    False                    False  \n",
       "\n",
       "[5 rows x 53 columns]"
      ]
     },
     "execution_count": 3,
     "metadata": {},
     "output_type": "execute_result"
    }
   ],
   "source": [
    "# import and view the training dataframe\n",
    "train = pd.read_csv(\"NIJ_s_Recidivism_Challenge_Training_Dataset.csv\")\n",
    "train.head()"
   ]
  },
  {
   "cell_type": "code",
   "execution_count": 4,
   "metadata": {},
   "outputs": [],
   "source": [
    "train = train.set_index('ID')"
   ]
  },
  {
   "cell_type": "code",
   "execution_count": 5,
   "metadata": {
    "execution": {
     "iopub.execute_input": "2022-04-22T01:39:43.594402Z",
     "iopub.status.busy": "2022-04-22T01:39:43.593111Z",
     "iopub.status.idle": "2022-04-22T01:39:43.661617Z",
     "shell.execute_reply": "2022-04-22T01:39:43.660616Z",
     "shell.execute_reply.started": "2022-04-22T01:39:43.594334Z"
    }
   },
   "outputs": [
    {
     "data": {
      "text/html": [
       "<div>\n",
       "<style scoped>\n",
       "    .dataframe tbody tr th:only-of-type {\n",
       "        vertical-align: middle;\n",
       "    }\n",
       "\n",
       "    .dataframe tbody tr th {\n",
       "        vertical-align: top;\n",
       "    }\n",
       "\n",
       "    .dataframe thead th {\n",
       "        text-align: right;\n",
       "    }\n",
       "</style>\n",
       "<table border=\"1\" class=\"dataframe\">\n",
       "  <thead>\n",
       "    <tr style=\"text-align: right;\">\n",
       "      <th></th>\n",
       "      <th>ID</th>\n",
       "      <th>Gender</th>\n",
       "      <th>Race</th>\n",
       "      <th>Age_at_Release</th>\n",
       "      <th>Residence_PUMA</th>\n",
       "      <th>Gang_Affiliated</th>\n",
       "      <th>Supervision_Risk_Score_First</th>\n",
       "      <th>Supervision_Level_First</th>\n",
       "      <th>Education_Level</th>\n",
       "      <th>Dependents</th>\n",
       "      <th>...</th>\n",
       "      <th>Prior_Conviction_Episodes_Prop</th>\n",
       "      <th>Prior_Conviction_Episodes_Drug</th>\n",
       "      <th>Prior_Conviction_Episodes_PPViolationCharges</th>\n",
       "      <th>Prior_Conviction_Episodes_DomesticViolenceCharges</th>\n",
       "      <th>Prior_Conviction_Episodes_GunCharges</th>\n",
       "      <th>Prior_Revocations_Parole</th>\n",
       "      <th>Prior_Revocations_Probation</th>\n",
       "      <th>Condition_MH_SA</th>\n",
       "      <th>Condition_Cog_Ed</th>\n",
       "      <th>Condition_Other</th>\n",
       "    </tr>\n",
       "  </thead>\n",
       "  <tbody>\n",
       "    <tr>\n",
       "      <th>0</th>\n",
       "      <td>6</td>\n",
       "      <td>M</td>\n",
       "      <td>WHITE</td>\n",
       "      <td>38-42</td>\n",
       "      <td>17</td>\n",
       "      <td>False</td>\n",
       "      <td>5.0</td>\n",
       "      <td>Standard</td>\n",
       "      <td>High School Diploma</td>\n",
       "      <td>0</td>\n",
       "      <td>...</td>\n",
       "      <td>2</td>\n",
       "      <td>0</td>\n",
       "      <td>False</td>\n",
       "      <td>False</td>\n",
       "      <td>False</td>\n",
       "      <td>False</td>\n",
       "      <td>False</td>\n",
       "      <td>False</td>\n",
       "      <td>False</td>\n",
       "      <td>True</td>\n",
       "    </tr>\n",
       "    <tr>\n",
       "      <th>1</th>\n",
       "      <td>8</td>\n",
       "      <td>M</td>\n",
       "      <td>BLACK</td>\n",
       "      <td>38-42</td>\n",
       "      <td>16</td>\n",
       "      <td>False</td>\n",
       "      <td>5.0</td>\n",
       "      <td>High</td>\n",
       "      <td>High School Diploma</td>\n",
       "      <td>3 or more</td>\n",
       "      <td>...</td>\n",
       "      <td>0</td>\n",
       "      <td>2 or more</td>\n",
       "      <td>True</td>\n",
       "      <td>False</td>\n",
       "      <td>False</td>\n",
       "      <td>False</td>\n",
       "      <td>False</td>\n",
       "      <td>False</td>\n",
       "      <td>True</td>\n",
       "      <td>False</td>\n",
       "    </tr>\n",
       "    <tr>\n",
       "      <th>2</th>\n",
       "      <td>12</td>\n",
       "      <td>M</td>\n",
       "      <td>BLACK</td>\n",
       "      <td>33-37</td>\n",
       "      <td>16</td>\n",
       "      <td>False</td>\n",
       "      <td>5.0</td>\n",
       "      <td>Specialized</td>\n",
       "      <td>High School Diploma</td>\n",
       "      <td>3 or more</td>\n",
       "      <td>...</td>\n",
       "      <td>0</td>\n",
       "      <td>2 or more</td>\n",
       "      <td>False</td>\n",
       "      <td>False</td>\n",
       "      <td>False</td>\n",
       "      <td>False</td>\n",
       "      <td>True</td>\n",
       "      <td>True</td>\n",
       "      <td>True</td>\n",
       "      <td>True</td>\n",
       "    </tr>\n",
       "    <tr>\n",
       "      <th>3</th>\n",
       "      <td>15</td>\n",
       "      <td>M</td>\n",
       "      <td>WHITE</td>\n",
       "      <td>33-37</td>\n",
       "      <td>5</td>\n",
       "      <td>False</td>\n",
       "      <td>7.0</td>\n",
       "      <td>Standard</td>\n",
       "      <td>Less than HS diploma</td>\n",
       "      <td>1</td>\n",
       "      <td>...</td>\n",
       "      <td>1</td>\n",
       "      <td>1</td>\n",
       "      <td>True</td>\n",
       "      <td>False</td>\n",
       "      <td>False</td>\n",
       "      <td>False</td>\n",
       "      <td>False</td>\n",
       "      <td>True</td>\n",
       "      <td>True</td>\n",
       "      <td>True</td>\n",
       "    </tr>\n",
       "    <tr>\n",
       "      <th>4</th>\n",
       "      <td>16</td>\n",
       "      <td>M</td>\n",
       "      <td>BLACK</td>\n",
       "      <td>33-37</td>\n",
       "      <td>3</td>\n",
       "      <td>False</td>\n",
       "      <td>4.0</td>\n",
       "      <td>Standard</td>\n",
       "      <td>Less than HS diploma</td>\n",
       "      <td>3 or more</td>\n",
       "      <td>...</td>\n",
       "      <td>0</td>\n",
       "      <td>2 or more</td>\n",
       "      <td>True</td>\n",
       "      <td>False</td>\n",
       "      <td>False</td>\n",
       "      <td>False</td>\n",
       "      <td>False</td>\n",
       "      <td>True</td>\n",
       "      <td>True</td>\n",
       "      <td>False</td>\n",
       "    </tr>\n",
       "  </tbody>\n",
       "</table>\n",
       "<p>5 rows × 33 columns</p>\n",
       "</div>"
      ],
      "text/plain": [
       "   ID Gender   Race Age_at_Release  Residence_PUMA Gang_Affiliated  \\\n",
       "0   6      M  WHITE          38-42              17           False   \n",
       "1   8      M  BLACK          38-42              16           False   \n",
       "2  12      M  BLACK          33-37              16           False   \n",
       "3  15      M  WHITE          33-37               5           False   \n",
       "4  16      M  BLACK          33-37               3           False   \n",
       "\n",
       "   Supervision_Risk_Score_First Supervision_Level_First       Education_Level  \\\n",
       "0                           5.0                Standard   High School Diploma   \n",
       "1                           5.0                    High   High School Diploma   \n",
       "2                           5.0             Specialized   High School Diploma   \n",
       "3                           7.0                Standard  Less than HS diploma   \n",
       "4                           4.0                Standard  Less than HS diploma   \n",
       "\n",
       "  Dependents  ... Prior_Conviction_Episodes_Prop  \\\n",
       "0          0  ...                              2   \n",
       "1  3 or more  ...                              0   \n",
       "2  3 or more  ...                              0   \n",
       "3          1  ...                              1   \n",
       "4  3 or more  ...                              0   \n",
       "\n",
       "  Prior_Conviction_Episodes_Drug Prior_Conviction_Episodes_PPViolationCharges  \\\n",
       "0                              0                                        False   \n",
       "1                      2 or more                                         True   \n",
       "2                      2 or more                                        False   \n",
       "3                              1                                         True   \n",
       "4                      2 or more                                         True   \n",
       "\n",
       "  Prior_Conviction_Episodes_DomesticViolenceCharges  \\\n",
       "0                                             False   \n",
       "1                                             False   \n",
       "2                                             False   \n",
       "3                                             False   \n",
       "4                                             False   \n",
       "\n",
       "  Prior_Conviction_Episodes_GunCharges Prior_Revocations_Parole  \\\n",
       "0                                False                    False   \n",
       "1                                False                    False   \n",
       "2                                False                    False   \n",
       "3                                False                    False   \n",
       "4                                False                    False   \n",
       "\n",
       "  Prior_Revocations_Probation Condition_MH_SA  Condition_Cog_Ed  \\\n",
       "0                       False           False             False   \n",
       "1                       False           False              True   \n",
       "2                        True            True              True   \n",
       "3                       False            True              True   \n",
       "4                       False            True              True   \n",
       "\n",
       "   Condition_Other  \n",
       "0             True  \n",
       "1            False  \n",
       "2             True  \n",
       "3             True  \n",
       "4            False  \n",
       "\n",
       "[5 rows x 33 columns]"
      ]
     },
     "execution_count": 5,
     "metadata": {},
     "output_type": "execute_result"
    }
   ],
   "source": [
    "# import and view the test dataframe\n",
    "test = pd.read_csv(\"NIJ_s_Recidivism_Challenge_Test_Dataset1.csv\")\n",
    "test.head()"
   ]
  },
  {
   "cell_type": "code",
   "execution_count": 6,
   "metadata": {},
   "outputs": [],
   "source": [
    "test = test.set_index('ID')"
   ]
  },
  {
   "cell_type": "code",
   "execution_count": 7,
   "metadata": {},
   "outputs": [
    {
     "data": {
      "text/plain": [
       "(7807, 32)"
      ]
     },
     "execution_count": 7,
     "metadata": {},
     "output_type": "execute_result"
    }
   ],
   "source": [
    "test.shape"
   ]
  },
  {
   "cell_type": "code",
   "execution_count": 8,
   "metadata": {
    "execution": {
     "iopub.execute_input": "2022-04-22T01:39:46.022137Z",
     "iopub.status.busy": "2022-04-22T01:39:46.021863Z",
     "iopub.status.idle": "2022-04-22T01:39:46.030215Z",
     "shell.execute_reply": "2022-04-22T01:39:46.028954Z",
     "shell.execute_reply.started": "2022-04-22T01:39:46.022108Z"
    }
   },
   "outputs": [
    {
     "data": {
      "text/plain": [
       "{'Age_at_Release',\n",
       " 'Condition_Cog_Ed',\n",
       " 'Condition_MH_SA',\n",
       " 'Condition_Other',\n",
       " 'Dependents',\n",
       " 'Education_Level',\n",
       " 'Gang_Affiliated',\n",
       " 'Gender',\n",
       " 'Prior_Arrest_Episodes_DVCharges',\n",
       " 'Prior_Arrest_Episodes_Drug',\n",
       " 'Prior_Arrest_Episodes_Felony',\n",
       " 'Prior_Arrest_Episodes_GunCharges',\n",
       " 'Prior_Arrest_Episodes_Misd',\n",
       " 'Prior_Arrest_Episodes_PPViolationCharges',\n",
       " 'Prior_Arrest_Episodes_Property',\n",
       " 'Prior_Arrest_Episodes_Violent',\n",
       " 'Prior_Conviction_Episodes_DomesticViolenceCharges',\n",
       " 'Prior_Conviction_Episodes_Drug',\n",
       " 'Prior_Conviction_Episodes_Felony',\n",
       " 'Prior_Conviction_Episodes_GunCharges',\n",
       " 'Prior_Conviction_Episodes_Misd',\n",
       " 'Prior_Conviction_Episodes_PPViolationCharges',\n",
       " 'Prior_Conviction_Episodes_Prop',\n",
       " 'Prior_Conviction_Episodes_Viol',\n",
       " 'Prior_Revocations_Parole',\n",
       " 'Prior_Revocations_Probation',\n",
       " 'Prison_Offense',\n",
       " 'Prison_Years',\n",
       " 'Race',\n",
       " 'Residence_PUMA',\n",
       " 'Supervision_Level_First',\n",
       " 'Supervision_Risk_Score_First'}"
      ]
     },
     "execution_count": 8,
     "metadata": {},
     "output_type": "execute_result"
    }
   ],
   "source": [
    "# test df has fewer columns than train df\n",
    "set(train.columns).intersection(set(test.columns)) # find like columns"
   ]
  },
  {
   "cell_type": "code",
   "execution_count": 9,
   "metadata": {
    "execution": {
     "iopub.execute_input": "2022-04-22T01:39:47.773677Z",
     "iopub.status.busy": "2022-04-22T01:39:47.773376Z",
     "iopub.status.idle": "2022-04-22T01:39:47.814255Z",
     "shell.execute_reply": "2022-04-22T01:39:47.813245Z",
     "shell.execute_reply.started": "2022-04-22T01:39:47.773648Z"
    }
   },
   "outputs": [
    {
     "data": {
      "text/plain": [
       "(18028, 33)"
      ]
     },
     "execution_count": 9,
     "metadata": {},
     "output_type": "execute_result"
    }
   ],
   "source": [
    "# drop extra coulmns from test df\n",
    "# keeping Recidivsism_Arrest_Year1\n",
    "train1 = train[['Age_at_Release','Condition_Cog_Ed','Condition_MH_SA',\n",
    "                'Condition_Other','Dependents','Education_Level','Gang_Affiliated',\n",
    "                'Gender','Prior_Arrest_Episodes_DVCharges','Prior_Arrest_Episodes_Drug',\n",
    "                'Prior_Arrest_Episodes_Felony','Prior_Arrest_Episodes_GunCharges',\n",
    "                'Prior_Arrest_Episodes_Misd','Prior_Arrest_Episodes_PPViolationCharges',\n",
    "                'Prior_Arrest_Episodes_Property','Prior_Arrest_Episodes_Violent',\n",
    "                'Prior_Conviction_Episodes_DomesticViolenceCharges','Prior_Conviction_Episodes_Drug',\n",
    "                'Prior_Conviction_Episodes_Felony','Prior_Conviction_Episodes_GunCharges',\n",
    "                'Prior_Conviction_Episodes_Misd','Prior_Conviction_Episodes_PPViolationCharges',\n",
    "                'Prior_Conviction_Episodes_Prop','Prior_Conviction_Episodes_Viol','Prior_Revocations_Parole',\n",
    "                'Prior_Revocations_Probation','Prison_Offense','Prison_Years','Race','Residence_PUMA',\n",
    "                'Supervision_Level_First','Supervision_Risk_Score_First','Recidivism_Arrest_Year1']]\n",
    "\n",
    "train1.shape # same number of columns between the two datasets"
   ]
  },
  {
   "cell_type": "code",
   "execution_count": 10,
   "metadata": {
    "execution": {
     "iopub.execute_input": "2022-04-22T01:39:56.782085Z",
     "iopub.status.busy": "2022-04-22T01:39:56.781821Z",
     "iopub.status.idle": "2022-04-22T01:39:56.793878Z",
     "shell.execute_reply": "2022-04-22T01:39:56.793176Z",
     "shell.execute_reply.started": "2022-04-22T01:39:56.782056Z"
    },
    "scrolled": true
   },
   "outputs": [
    {
     "data": {
      "text/plain": [
       "Age_at_Release                                          0\n",
       "Condition_Cog_Ed                                        0\n",
       "Condition_MH_SA                                         0\n",
       "Condition_Other                                         0\n",
       "Dependents                                              0\n",
       "Education_Level                                         0\n",
       "Gang_Affiliated                                      2217\n",
       "Gender                                                  0\n",
       "Prior_Arrest_Episodes_DVCharges                         0\n",
       "Prior_Arrest_Episodes_Drug                              0\n",
       "Prior_Arrest_Episodes_Felony                            0\n",
       "Prior_Arrest_Episodes_GunCharges                        0\n",
       "Prior_Arrest_Episodes_Misd                              0\n",
       "Prior_Arrest_Episodes_PPViolationCharges                0\n",
       "Prior_Arrest_Episodes_Property                          0\n",
       "Prior_Arrest_Episodes_Violent                           0\n",
       "Prior_Conviction_Episodes_DomesticViolenceCharges       0\n",
       "Prior_Conviction_Episodes_Drug                          0\n",
       "Prior_Conviction_Episodes_Felony                        0\n",
       "Prior_Conviction_Episodes_GunCharges                    0\n",
       "Prior_Conviction_Episodes_Misd                          0\n",
       "Prior_Conviction_Episodes_PPViolationCharges            0\n",
       "Prior_Conviction_Episodes_Prop                          0\n",
       "Prior_Conviction_Episodes_Viol                          0\n",
       "Prior_Revocations_Parole                                0\n",
       "Prior_Revocations_Probation                             0\n",
       "Prison_Offense                                       2321\n",
       "Prison_Years                                            0\n",
       "Race                                                    0\n",
       "Residence_PUMA                                          0\n",
       "Supervision_Level_First                              1212\n",
       "Supervision_Risk_Score_First                          330\n",
       "Recidivism_Arrest_Year1                                 0\n",
       "dtype: int64"
      ]
     },
     "execution_count": 10,
     "metadata": {},
     "output_type": "execute_result"
    }
   ],
   "source": [
    "# check for missing values in training set\n",
    "train1.isnull().sum()"
   ]
  },
  {
   "cell_type": "code",
   "execution_count": 11,
   "metadata": {},
   "outputs": [
    {
     "data": {
      "text/plain": [
       "Gender                                                 0\n",
       "Race                                                   0\n",
       "Age_at_Release                                         0\n",
       "Residence_PUMA                                         0\n",
       "Gang_Affiliated                                      950\n",
       "Supervision_Risk_Score_First                         145\n",
       "Supervision_Level_First                              508\n",
       "Education_Level                                        0\n",
       "Dependents                                             0\n",
       "Prison_Offense                                       956\n",
       "Prison_Years                                           0\n",
       "Prior_Arrest_Episodes_Felony                           0\n",
       "Prior_Arrest_Episodes_Misd                             0\n",
       "Prior_Arrest_Episodes_Violent                          0\n",
       "Prior_Arrest_Episodes_Property                         0\n",
       "Prior_Arrest_Episodes_Drug                             0\n",
       "Prior_Arrest_Episodes_PPViolationCharges               0\n",
       "Prior_Arrest_Episodes_DVCharges                        0\n",
       "Prior_Arrest_Episodes_GunCharges                       0\n",
       "Prior_Conviction_Episodes_Felony                       0\n",
       "Prior_Conviction_Episodes_Misd                         0\n",
       "Prior_Conviction_Episodes_Viol                         0\n",
       "Prior_Conviction_Episodes_Prop                         0\n",
       "Prior_Conviction_Episodes_Drug                         0\n",
       "Prior_Conviction_Episodes_PPViolationCharges           0\n",
       "Prior_Conviction_Episodes_DomesticViolenceCharges      0\n",
       "Prior_Conviction_Episodes_GunCharges                   0\n",
       "Prior_Revocations_Parole                               0\n",
       "Prior_Revocations_Probation                            0\n",
       "Condition_MH_SA                                        0\n",
       "Condition_Cog_Ed                                       0\n",
       "Condition_Other                                        0\n",
       "dtype: int64"
      ]
     },
     "execution_count": 11,
     "metadata": {},
     "output_type": "execute_result"
    }
   ],
   "source": [
    "# check for missing values in test set\n",
    "test.isnull().sum() # both datasets have the same columns with NaN values"
   ]
  },
  {
   "cell_type": "code",
   "execution_count": 12,
   "metadata": {
    "execution": {
     "iopub.execute_input": "2022-04-22T01:39:53.682815Z",
     "iopub.status.busy": "2022-04-22T01:39:53.682560Z",
     "iopub.status.idle": "2022-04-22T01:39:53.699131Z",
     "shell.execute_reply": "2022-04-22T01:39:53.697418Z",
     "shell.execute_reply.started": "2022-04-22T01:39:53.682786Z"
    }
   },
   "outputs": [
    {
     "data": {
      "text/plain": [
       "Gender  Gang_Affiliated\n",
       "M       False              0.82411\n",
       "        True               0.17589\n",
       "Name: Gang_Affiliated, dtype: float64"
      ]
     },
     "execution_count": 12,
     "metadata": {},
     "output_type": "execute_result"
    }
   ],
   "source": [
    "# Analyze missing values\n",
    "# Drop or impute values?\n",
    "\n",
    "# look closer at gang affiliation\n",
    "train1.groupby('Gender')['Gang_Affiliated'].value_counts(normalize=True) \n",
    "\n",
    "# Only 17.5% of the offenders have gang ties\n",
    "# no record of women..."
   ]
  },
  {
   "cell_type": "code",
   "execution_count": 13,
   "metadata": {},
   "outputs": [
    {
     "data": {
      "text/plain": [
       "M    15811\n",
       "F     2217\n",
       "Name: Gender, dtype: int64"
      ]
     },
     "execution_count": 13,
     "metadata": {},
     "output_type": "execute_result"
    }
   ],
   "source": [
    "train1.Gender.value_counts() # all men gang affiliation is accounted for\n",
    "# only women have NaN values for gang affiliation"
   ]
  },
  {
   "cell_type": "code",
   "execution_count": 14,
   "metadata": {
    "execution": {
     "iopub.execute_input": "2022-04-22T01:39:58.015293Z",
     "iopub.status.busy": "2022-04-22T01:39:58.015015Z",
     "iopub.status.idle": "2022-04-22T01:39:58.034398Z",
     "shell.execute_reply": "2022-04-22T01:39:58.033306Z",
     "shell.execute_reply.started": "2022-04-22T01:39:58.015263Z"
    },
    "jupyter": {
     "source_hidden": true
    }
   },
   "outputs": [
    {
     "name": "stderr",
     "output_type": "stream",
     "text": [
      "C:\\Users\\gowgi\\AppData\\Local\\Temp/ipykernel_15972/1654900001.py:2: SettingWithCopyWarning: \n",
      "A value is trying to be set on a copy of a slice from a DataFrame.\n",
      "Try using .loc[row_indexer,col_indexer] = value instead\n",
      "\n",
      "See the caveats in the documentation: https://pandas.pydata.org/pandas-docs/stable/user_guide/indexing.html#returning-a-view-versus-a-copy\n",
      "  train1['Gang_Affiliated'] = train1['Gang_Affiliated'].fillna('False')\n"
     ]
    }
   ],
   "source": [
    "# leave women in the dataset, but give them no gang affiliation\n",
    "train1['Gang_Affiliated'] = train1['Gang_Affiliated'].fillna('False')"
   ]
  },
  {
   "cell_type": "code",
   "execution_count": 15,
   "metadata": {},
   "outputs": [],
   "source": [
    "# gang affiliation for test set (fill na with 'False' like in the training set)\n",
    "test['Gang_Affiliated'] = test['Gang_Affiliated'].fillna('False')"
   ]
  },
  {
   "cell_type": "code",
   "execution_count": 16,
   "metadata": {
    "scrolled": true
   },
   "outputs": [
    {
     "data": {
      "text/plain": [
       "Property           0.369071\n",
       "Violent/Non-Sex    0.241739\n",
       "Drug               0.230279\n",
       "Other              0.121793\n",
       "Violent/Sex        0.037117\n",
       "Name: Prison_Offense, dtype: float64"
      ]
     },
     "execution_count": 16,
     "metadata": {},
     "output_type": "execute_result"
    }
   ],
   "source": [
    "# look closer at prison offense\n",
    "train1.Prison_Offense.value_counts(normalize=True) # most crimes are property crimes"
   ]
  },
  {
   "cell_type": "code",
   "execution_count": 17,
   "metadata": {},
   "outputs": [
    {
     "data": {
      "text/plain": [
       "Gender  Prison_Offense \n",
       "F       Property           0.441013\n",
       "        Drug               0.309367\n",
       "        Violent/Non-Sex    0.166076\n",
       "        Other              0.083544\n",
       "M       Property           0.358724\n",
       "        Violent/Non-Sex    0.252622\n",
       "        Drug               0.218905\n",
       "        Other              0.127294\n",
       "        Violent/Sex        0.042456\n",
       "Name: Prison_Offense, dtype: float64"
      ]
     },
     "execution_count": 17,
     "metadata": {},
     "output_type": "execute_result"
    }
   ],
   "source": [
    "train1.groupby('Gender')['Prison_Offense'].value_counts(normalize=True)\n",
    "# 44% of women's crimes are property crimes\n",
    "# 35.8% of men's crimes are property crimes"
   ]
  },
  {
   "cell_type": "code",
   "execution_count": 18,
   "metadata": {
    "scrolled": true
   },
   "outputs": [
    {
     "name": "stderr",
     "output_type": "stream",
     "text": [
      "C:\\Users\\gowgi\\AppData\\Local\\Temp/ipykernel_15972/1560506762.py:2: SettingWithCopyWarning: \n",
      "A value is trying to be set on a copy of a slice from a DataFrame.\n",
      "Try using .loc[row_indexer,col_indexer] = value instead\n",
      "\n",
      "See the caveats in the documentation: https://pandas.pydata.org/pandas-docs/stable/user_guide/indexing.html#returning-a-view-versus-a-copy\n",
      "  train1['Prison_Offense']=train1['Prison_Offense'].fillna('Property')\n"
     ]
    }
   ],
   "source": [
    "# fill missing prison offenses with the majority crime for training set\n",
    "train1['Prison_Offense']=train1['Prison_Offense'].fillna('Property')"
   ]
  },
  {
   "cell_type": "code",
   "execution_count": 19,
   "metadata": {},
   "outputs": [],
   "source": [
    "# fill missing prison offenses with the majority crime for testing set\n",
    "test['Prison_Offense']=test['Prison_Offense'].fillna('Property')"
   ]
  },
  {
   "cell_type": "code",
   "execution_count": 20,
   "metadata": {},
   "outputs": [
    {
     "data": {
      "text/plain": [
       "Age_at_Release                                          0\n",
       "Condition_Cog_Ed                                        0\n",
       "Condition_MH_SA                                         0\n",
       "Condition_Other                                         0\n",
       "Dependents                                              0\n",
       "Education_Level                                         0\n",
       "Gang_Affiliated                                         0\n",
       "Gender                                                  0\n",
       "Prior_Arrest_Episodes_DVCharges                         0\n",
       "Prior_Arrest_Episodes_Drug                              0\n",
       "Prior_Arrest_Episodes_Felony                            0\n",
       "Prior_Arrest_Episodes_GunCharges                        0\n",
       "Prior_Arrest_Episodes_Misd                              0\n",
       "Prior_Arrest_Episodes_PPViolationCharges                0\n",
       "Prior_Arrest_Episodes_Property                          0\n",
       "Prior_Arrest_Episodes_Violent                           0\n",
       "Prior_Conviction_Episodes_DomesticViolenceCharges       0\n",
       "Prior_Conviction_Episodes_Drug                          0\n",
       "Prior_Conviction_Episodes_Felony                        0\n",
       "Prior_Conviction_Episodes_GunCharges                    0\n",
       "Prior_Conviction_Episodes_Misd                          0\n",
       "Prior_Conviction_Episodes_PPViolationCharges            0\n",
       "Prior_Conviction_Episodes_Prop                          0\n",
       "Prior_Conviction_Episodes_Viol                          0\n",
       "Prior_Revocations_Parole                                0\n",
       "Prior_Revocations_Probation                             0\n",
       "Prison_Offense                                          0\n",
       "Prison_Years                                            0\n",
       "Race                                                    0\n",
       "Residence_PUMA                                          0\n",
       "Supervision_Level_First                              1212\n",
       "Supervision_Risk_Score_First                          330\n",
       "Recidivism_Arrest_Year1                                 0\n",
       "dtype: int64"
      ]
     },
     "execution_count": 20,
     "metadata": {},
     "output_type": "execute_result"
    }
   ],
   "source": [
    "train1.isnull().sum()"
   ]
  },
  {
   "cell_type": "code",
   "execution_count": 21,
   "metadata": {
    "scrolled": true
   },
   "outputs": [
    {
     "data": {
      "text/plain": [
       "Gender  Supervision_Risk_Score_First\n",
       "F       5.0                             0.145814\n",
       "        7.0                             0.145814\n",
       "        6.0                             0.139374\n",
       "        8.0                             0.119595\n",
       "        4.0                             0.111776\n",
       "        9.0                             0.105336\n",
       "        3.0                             0.089696\n",
       "        10.0                            0.075897\n",
       "        2.0                             0.046458\n",
       "        1.0                             0.020239\n",
       "M       6.0                             0.152925\n",
       "        7.0                             0.142038\n",
       "        5.0                             0.136305\n",
       "        8.0                             0.112600\n",
       "        4.0                             0.112213\n",
       "        9.0                             0.097784\n",
       "        10.0                            0.087284\n",
       "        3.0                             0.081293\n",
       "        2.0                             0.045414\n",
       "        1.0                             0.032144\n",
       "Name: Supervision_Risk_Score_First, dtype: float64"
      ]
     },
     "execution_count": 21,
     "metadata": {},
     "output_type": "execute_result"
    }
   ],
   "source": [
    "# look closer at Supervision_Risk_Score_First\n",
    "train1.groupby('Gender')['Supervision_Risk_Score_First'].value_counts(normalize=True)"
   ]
  },
  {
   "cell_type": "code",
   "execution_count": 22,
   "metadata": {},
   "outputs": [
    {
     "data": {
      "text/plain": [
       "<AxesSubplot:xlabel='Supervision_Risk_Score_First', ylabel='Count'>"
      ]
     },
     "execution_count": 22,
     "metadata": {},
     "output_type": "execute_result"
    },
    {
     "data": {
      "image/png": "[encoded data removed]",
      "text/plain": [
       "<Figure size 432x288 with 1 Axes>"
      ]
     },
     "metadata": {
      "needs_background": "light"
     },
     "output_type": "display_data"
    }
   ],
   "source": [
    "import seaborn as sns\n",
    "sns.histplot(data = train1, x='Supervision_Risk_Score_First', kde = True) # semi normal distribution"
   ]
  },
  {
   "cell_type": "code",
   "execution_count": 23,
   "metadata": {},
   "outputs": [
    {
     "name": "stderr",
     "output_type": "stream",
     "text": [
      "C:\\Users\\gowgi\\AppData\\Local\\Temp/ipykernel_15972/2661958926.py:2: SettingWithCopyWarning: \n",
      "A value is trying to be set on a copy of a slice from a DataFrame.\n",
      "Try using .loc[row_indexer,col_indexer] = value instead\n",
      "\n",
      "See the caveats in the documentation: https://pandas.pydata.org/pandas-docs/stable/user_guide/indexing.html#returning-a-view-versus-a-copy\n",
      "  train1['Supervision_Risk_Score_First']=train1['Supervision_Risk_Score_First'].fillna(float(6))\n"
     ]
    }
   ],
   "source": [
    "# replace missing Supervision_Risk_Score_First with mean of 6\n",
    "train1['Supervision_Risk_Score_First']=train1['Supervision_Risk_Score_First'].fillna(float(6))"
   ]
  },
  {
   "cell_type": "code",
   "execution_count": 24,
   "metadata": {},
   "outputs": [],
   "source": [
    "# replace missing Supervision_Risk_Score_First with mean of 6 for test set\n",
    "test['Supervision_Risk_Score_First']=test['Supervision_Risk_Score_First'].fillna(float(6))"
   ]
  },
  {
   "cell_type": "code",
   "execution_count": 25,
   "metadata": {},
   "outputs": [
    {
     "data": {
      "text/plain": [
       "Supervision_Level_First  Supervision_Risk_Score_First\n",
       "High                     6.0                             0.345095\n",
       "                         7.0                             0.329798\n",
       "                         8.0                             0.268407\n",
       "                         5.0                             0.018356\n",
       "                         9.0                             0.012441\n",
       "                         4.0                             0.009382\n",
       "                         1.0                             0.005711\n",
       "                         10.0                            0.005507\n",
       "                         3.0                             0.003467\n",
       "                         2.0                             0.001836\n",
       "Specialized              9.0                             0.288142\n",
       "                         10.0                            0.260219\n",
       "                         6.0                             0.094699\n",
       "                         7.0                             0.076690\n",
       "                         5.0                             0.073452\n",
       "                         4.0                             0.060907\n",
       "                         8.0                             0.054027\n",
       "                         3.0                             0.047552\n",
       "                         2.0                             0.027722\n",
       "                         1.0                             0.016592\n",
       "Standard                 5.0                             0.254339\n",
       "                         4.0                             0.199111\n",
       "                         3.0                             0.144312\n",
       "                         6.0                             0.084636\n",
       "                         2.0                             0.077894\n",
       "                         7.0                             0.069717\n",
       "                         8.0                             0.056663\n",
       "                         1.0                             0.049921\n",
       "                         9.0                             0.035863\n",
       "                         10.0                            0.027543\n",
       "Name: Supervision_Risk_Score_First, dtype: float64"
      ]
     },
     "execution_count": 25,
     "metadata": {},
     "output_type": "execute_result"
    }
   ],
   "source": [
    "# look closer at Supervision Level First\n",
    "train1.groupby('Supervision_Level_First')['Supervision_Risk_Score_First'].value_counts(normalize=True)\n",
    "\n",
    "# High = score of 6, 7, 8\n",
    "# Specialized = score of 9, 10\n",
    "# Standadr = score of 1, 2, 3, 4, 5"
   ]
  },
  {
   "cell_type": "code",
   "execution_count": 26,
   "metadata": {},
   "outputs": [
    {
     "name": "stderr",
     "output_type": "stream",
     "text": [
      "C:\\Users\\gowgi\\AppData\\Local\\Temp/ipykernel_15972/3643994130.py:17: SettingWithCopyWarning: \n",
      "A value is trying to be set on a copy of a slice from a DataFrame.\n",
      "Try using .loc[row_indexer,col_indexer] = value instead\n",
      "\n",
      "See the caveats in the documentation: https://pandas.pydata.org/pandas-docs/stable/user_guide/indexing.html#returning-a-view-versus-a-copy\n",
      "  train1['Supervision_Level_First'] = train1.apply(func, axis=1)\n"
     ]
    }
   ],
   "source": [
    "# replace missing values of Supervision Level with High, Specialized, or Standard based on Risk Score\n",
    "def func(row):\n",
    "    if row['Supervision_Level_First'] is np.nan and row['Supervision_Risk_Score_First'] <= float(5):\n",
    "        return 'Standard'\n",
    "        return 'High'\n",
    "    elif row['Supervision_Level_First'] is np.nan and row['Supervision_Risk_Score_First'] >= float(9):\n",
    "        return 'Specialized'\n",
    "    elif row['Supervision_Level_First'] is np.nan and row['Supervision_Risk_Score_First'] == float(6):\n",
    "        return 'High'\n",
    "    elif row['Supervision_Level_First'] is np.nan and row['Supervision_Risk_Score_First'] == float(7):\n",
    "        return 'High'\n",
    "    elif row['Supervision_Level_First'] is np.nan and row['Supervision_Risk_Score_First'] == float(8):\n",
    "        return 'High'\n",
    "    else:\n",
    "        return row['Supervision_Level_First']\n",
    "\n",
    "train1['Supervision_Level_First'] = train1.apply(func, axis=1)"
   ]
  },
  {
   "cell_type": "code",
   "execution_count": 27,
   "metadata": {},
   "outputs": [],
   "source": [
    "# do the same for test set\n",
    "def func(row):\n",
    "    if row['Supervision_Level_First'] is np.nan and row['Supervision_Risk_Score_First'] <= float(5):\n",
    "        return 'Standard'\n",
    "        return 'High'\n",
    "    elif row['Supervision_Level_First'] is np.nan and row['Supervision_Risk_Score_First'] >= float(9):\n",
    "        return 'Specialized'\n",
    "    elif row['Supervision_Level_First'] is np.nan and row['Supervision_Risk_Score_First'] == float(6):\n",
    "        return 'High'\n",
    "    elif row['Supervision_Level_First'] is np.nan and row['Supervision_Risk_Score_First'] == float(7):\n",
    "        return 'High'\n",
    "    elif row['Supervision_Level_First'] is np.nan and row['Supervision_Risk_Score_First'] == float(8):\n",
    "        return 'High'\n",
    "    else:\n",
    "        return row['Supervision_Level_First']\n",
    "\n",
    "test['Supervision_Level_First'] = test.apply(func, axis=1)"
   ]
  },
  {
   "cell_type": "code",
   "execution_count": 28,
   "metadata": {},
   "outputs": [
    {
     "data": {
      "text/plain": [
       "Age_at_Release                                       0\n",
       "Condition_Cog_Ed                                     0\n",
       "Condition_MH_SA                                      0\n",
       "Condition_Other                                      0\n",
       "Dependents                                           0\n",
       "Education_Level                                      0\n",
       "Gang_Affiliated                                      0\n",
       "Gender                                               0\n",
       "Prior_Arrest_Episodes_DVCharges                      0\n",
       "Prior_Arrest_Episodes_Drug                           0\n",
       "Prior_Arrest_Episodes_Felony                         0\n",
       "Prior_Arrest_Episodes_GunCharges                     0\n",
       "Prior_Arrest_Episodes_Misd                           0\n",
       "Prior_Arrest_Episodes_PPViolationCharges             0\n",
       "Prior_Arrest_Episodes_Property                       0\n",
       "Prior_Arrest_Episodes_Violent                        0\n",
       "Prior_Conviction_Episodes_DomesticViolenceCharges    0\n",
       "Prior_Conviction_Episodes_Drug                       0\n",
       "Prior_Conviction_Episodes_Felony                     0\n",
       "Prior_Conviction_Episodes_GunCharges                 0\n",
       "Prior_Conviction_Episodes_Misd                       0\n",
       "Prior_Conviction_Episodes_PPViolationCharges         0\n",
       "Prior_Conviction_Episodes_Prop                       0\n",
       "Prior_Conviction_Episodes_Viol                       0\n",
       "Prior_Revocations_Parole                             0\n",
       "Prior_Revocations_Probation                          0\n",
       "Prison_Offense                                       0\n",
       "Prison_Years                                         0\n",
       "Race                                                 0\n",
       "Residence_PUMA                                       0\n",
       "Supervision_Level_First                              0\n",
       "Supervision_Risk_Score_First                         0\n",
       "Recidivism_Arrest_Year1                              0\n",
       "dtype: int64"
      ]
     },
     "execution_count": 28,
     "metadata": {},
     "output_type": "execute_result"
    }
   ],
   "source": [
    "# verify all missing values have been taken care of for training set\n",
    "train1.isnull().sum()"
   ]
  },
  {
   "cell_type": "code",
   "execution_count": 29,
   "metadata": {},
   "outputs": [
    {
     "data": {
      "text/plain": [
       "Gender                                               0\n",
       "Race                                                 0\n",
       "Age_at_Release                                       0\n",
       "Residence_PUMA                                       0\n",
       "Gang_Affiliated                                      0\n",
       "Supervision_Risk_Score_First                         0\n",
       "Supervision_Level_First                              0\n",
       "Education_Level                                      0\n",
       "Dependents                                           0\n",
       "Prison_Offense                                       0\n",
       "Prison_Years                                         0\n",
       "Prior_Arrest_Episodes_Felony                         0\n",
       "Prior_Arrest_Episodes_Misd                           0\n",
       "Prior_Arrest_Episodes_Violent                        0\n",
       "Prior_Arrest_Episodes_Property                       0\n",
       "Prior_Arrest_Episodes_Drug                           0\n",
       "Prior_Arrest_Episodes_PPViolationCharges             0\n",
       "Prior_Arrest_Episodes_DVCharges                      0\n",
       "Prior_Arrest_Episodes_GunCharges                     0\n",
       "Prior_Conviction_Episodes_Felony                     0\n",
       "Prior_Conviction_Episodes_Misd                       0\n",
       "Prior_Conviction_Episodes_Viol                       0\n",
       "Prior_Conviction_Episodes_Prop                       0\n",
       "Prior_Conviction_Episodes_Drug                       0\n",
       "Prior_Conviction_Episodes_PPViolationCharges         0\n",
       "Prior_Conviction_Episodes_DomesticViolenceCharges    0\n",
       "Prior_Conviction_Episodes_GunCharges                 0\n",
       "Prior_Revocations_Parole                             0\n",
       "Prior_Revocations_Probation                          0\n",
       "Condition_MH_SA                                      0\n",
       "Condition_Cog_Ed                                     0\n",
       "Condition_Other                                      0\n",
       "dtype: int64"
      ]
     },
     "execution_count": 29,
     "metadata": {},
     "output_type": "execute_result"
    }
   ],
   "source": [
    "# verify all missing values have been taken care of for test set\n",
    "test.isnull().sum()"
   ]
  },
  {
   "cell_type": "code",
   "execution_count": 30,
   "metadata": {
    "execution": {
     "iopub.execute_input": "2022-04-21T23:56:10.374853Z",
     "iopub.status.busy": "2022-04-21T23:56:10.374617Z",
     "iopub.status.idle": "2022-04-21T23:56:10.645164Z",
     "shell.execute_reply": "2022-04-21T23:56:10.644389Z",
     "shell.execute_reply.started": "2022-04-21T23:56:10.374830Z"
    }
   },
   "outputs": [],
   "source": [
    "# create dummy variables for the training set\n",
    "train1 = pd.get_dummies(train1, columns=['Age_at_Release','Prison_Offense','Condition_Cog_Ed','Condition_MH_SA',\n",
    "                'Condition_Other','Dependents','Education_Level','Gang_Affiliated',\n",
    "                'Gender','Prior_Arrest_Episodes_DVCharges','Prior_Arrest_Episodes_Drug',\n",
    "                'Prior_Arrest_Episodes_Felony','Prior_Arrest_Episodes_GunCharges',\n",
    "                'Prior_Arrest_Episodes_Misd','Prior_Arrest_Episodes_PPViolationCharges',\n",
    "                'Prior_Arrest_Episodes_Property','Prior_Arrest_Episodes_Violent',\n",
    "                'Prior_Conviction_Episodes_DomesticViolenceCharges','Prior_Conviction_Episodes_Drug',\n",
    "                'Prior_Conviction_Episodes_Felony','Prior_Conviction_Episodes_GunCharges',\n",
    "                'Prior_Conviction_Episodes_Misd','Prior_Conviction_Episodes_PPViolationCharges',\n",
    "                'Prior_Conviction_Episodes_Prop','Prior_Conviction_Episodes_Viol','Prior_Revocations_Parole',\n",
    "                'Prior_Revocations_Probation','Prison_Years','Race','Residence_PUMA',\n",
    "                'Supervision_Level_First','Supervision_Risk_Score_First','Recidivism_Arrest_Year1'], drop_first=True)"
   ]
  },
  {
   "cell_type": "code",
   "execution_count": 31,
   "metadata": {},
   "outputs": [],
   "source": [
    "# create the same dummy variables for the test set\n",
    "test = pd.get_dummies(test, columns=['Age_at_Release','Prison_Offense','Condition_Cog_Ed','Condition_MH_SA',\n",
    "                'Condition_Other','Dependents','Education_Level','Gang_Affiliated',\n",
    "                'Gender','Prior_Arrest_Episodes_DVCharges','Prior_Arrest_Episodes_Drug',\n",
    "                'Prior_Arrest_Episodes_Felony','Prior_Arrest_Episodes_GunCharges',\n",
    "                'Prior_Arrest_Episodes_Misd','Prior_Arrest_Episodes_PPViolationCharges',\n",
    "                'Prior_Arrest_Episodes_Property','Prior_Arrest_Episodes_Violent',\n",
    "                'Prior_Conviction_Episodes_DomesticViolenceCharges','Prior_Conviction_Episodes_Drug',\n",
    "                'Prior_Conviction_Episodes_Felony','Prior_Conviction_Episodes_GunCharges',\n",
    "                'Prior_Conviction_Episodes_Misd','Prior_Conviction_Episodes_PPViolationCharges',\n",
    "                'Prior_Conviction_Episodes_Prop','Prior_Conviction_Episodes_Viol','Prior_Revocations_Parole',\n",
    "                'Prior_Revocations_Probation','Prison_Years','Race','Residence_PUMA',\n",
    "                'Supervision_Level_First','Supervision_Risk_Score_First'], drop_first=True)"
   ]
  },
  {
   "cell_type": "code",
   "execution_count": 32,
   "metadata": {},
   "outputs": [],
   "source": [
    "from sklearn.model_selection import train_test_split # import 'train_test_split'\n",
    "from xgboost import XGBClassifier\n",
    "from sklearn.ensemble  import AdaBoostClassifier\n",
    "from sklearn.ensemble import GradientBoostingClassifier\n",
    "from sklearn.metrics import f1_score, accuracy_score, roc_auc_score, make_scorer # import metrics from sklearn\n",
    "from hyperopt import STATUS_OK, Trials, fmin, hp, tpe\n",
    "import xgboost as xgb"
   ]
  },
  {
   "cell_type": "code",
   "execution_count": 33,
   "metadata": {},
   "outputs": [],
   "source": [
    "df_train = train1.drop(['Recidivism_Arrest_Year1_True'], axis=1)\n",
    "target = train1.Recidivism_Arrest_Year1_True\n",
    "X_train, X_test, y_train, y_test = train_test_split(df_train, target, random_state=42)"
   ]
  },
  {
   "cell_type": "code",
   "execution_count": 34,
   "metadata": {},
   "outputs": [],
   "source": [
    "ada_obj = AdaBoostClassifier(learning_rate = 0.1,\n",
    "                             n_estimators = 2000,\n",
    "                             random_state=42)\n",
    "ada_opt = ada_obj.fit(X_train, y_train)"
   ]
  },
  {
   "cell_type": "code",
   "execution_count": 35,
   "metadata": {},
   "outputs": [
    {
     "data": {
      "text/plain": [
       "0.7011315731084979"
      ]
     },
     "execution_count": 35,
     "metadata": {},
     "output_type": "execute_result"
    }
   ],
   "source": [
    "accuracy_score(ada_obj.predict(X_test), y_test)"
   ]
  },
  {
   "cell_type": "code",
   "execution_count": 36,
   "metadata": {},
   "outputs": [],
   "source": [
    "GBC_obj = GradientBoostingClassifier(learning_rate = 0.05,\n",
    "                                     max_depth = 3,\n",
    "                                     min_samples_leaf = 5,\n",
    "                                     min_samples_split = 4,\n",
    "                                     n_estimators = 500,\n",
    "                                     random_state=42)\n",
    "GBC_opt = GBC_obj.fit(X_train, y_train)"
   ]
  },
  {
   "cell_type": "code",
   "execution_count": 37,
   "metadata": {},
   "outputs": [
    {
     "data": {
      "text/plain": [
       "0.6991346793876193"
      ]
     },
     "execution_count": 37,
     "metadata": {},
     "output_type": "execute_result"
    }
   ],
   "source": [
    "accuracy_score(GBC_opt.predict(X_test), y_test)"
   ]
  },
  {
   "cell_type": "code",
   "execution_count": 38,
   "metadata": {},
   "outputs": [],
   "source": [
    "space = {'max_depth':hp.quniform(\"max_depth\", 3, 18, 1),\n",
    "        'gamma':hp.uniform('gamma',1,9),\n",
    "        'reg_alpha':hp.quniform('reg_alpha',40,180,1),\n",
    "        'reg_lambda':hp.uniform('reg_lambda',0,1),\n",
    "        'colsample_bytree':hp.uniform('colsample_bytree',0.5,1),\n",
    "        'min_child_weight':hp.quniform('min_child_weight',0,10,1),\n",
    "        'n_estimators':180,\n",
    "        'seed':0}"
   ]
  },
  {
   "cell_type": "code",
   "execution_count": 39,
   "metadata": {},
   "outputs": [],
   "source": [
    "def objective(space):\n",
    "    clf=xgb.XGBClassifier(\n",
    "                    n_estimators =space['n_estimators'], max_depth = int(space['max_depth']), gamma = space['gamma'],\n",
    "                    reg_alpha = int(space['reg_alpha']),min_child_weight=int(space['min_child_weight']),\n",
    "                    colsample_bytree=int(space['colsample_bytree']))\n",
    "    \n",
    "    evaluation = [( X_train, y_train), ( X_test, y_test)]\n",
    "    \n",
    "    clf.fit(X_train, y_train,\n",
    "            eval_set=evaluation, eval_metric=\"auc\",\n",
    "            early_stopping_rounds=10,verbose=False)\n",
    "    \n",
    "\n",
    "    pred = clf.predict(X_test)\n",
    "    accuracy = accuracy_score(y_test, pred>0.5)\n",
    "    print (\"SCORE:\", accuracy)\n",
    "    return {'loss': -accuracy, 'status': STATUS_OK }"
   ]
  },
  {
   "cell_type": "code",
   "execution_count": 40,
   "metadata": {},
   "outputs": [
    {
     "name": "stdout",
     "output_type": "stream",
     "text": [
      "  0%|                                                                          | 0/100 [00:00<?, ?trial/s, best loss=?]"
     ]
    },
    {
     "name": "stderr",
     "output_type": "stream",
     "text": [
      "C:\\Users\\gowgi\\anaconda3\\lib\\site-packages\\xgboost\\sklearn.py:793: UserWarning: `eval_metric` in `fit` method is deprecated for better compatibility with scikit-learn, use `eval_metric` in constructor or`set_params` instead.\n",
      "  warnings.warn(\n",
      "\n",
      "C:\\Users\\gowgi\\anaconda3\\lib\\site-packages\\xgboost\\sklearn.py:793: UserWarning: `early_stopping_rounds` in `fit` method is deprecated for better compatibility with scikit-learn, use `early_stopping_rounds` in constructor or`set_params` instead.\n",
      "  warnings.warn(\n",
      "\n"
     ]
    },
    {
     "name": "stdout",
     "output_type": "stream",
     "text": [
      "SCORE:                                                                                                                 \n",
      "0.6878189483026403                                                                                                     \n",
      "  1%|▍                                              | 1/100 [00:00<00:45,  2.19trial/s, best loss: -0.6878189483026403]"
     ]
    },
    {
     "name": "stderr",
     "output_type": "stream",
     "text": [
      "C:\\Users\\gowgi\\anaconda3\\lib\\site-packages\\xgboost\\sklearn.py:793: UserWarning: `eval_metric` in `fit` method is deprecated for better compatibility with scikit-learn, use `eval_metric` in constructor or`set_params` instead.\n",
      "  warnings.warn(\n",
      "\n",
      "C:\\Users\\gowgi\\anaconda3\\lib\\site-packages\\xgboost\\sklearn.py:793: UserWarning: `early_stopping_rounds` in `fit` method is deprecated for better compatibility with scikit-learn, use `early_stopping_rounds` in constructor or`set_params` instead.\n",
      "  warnings.warn(\n",
      "\n"
     ]
    },
    {
     "name": "stdout",
     "output_type": "stream",
     "text": [
      "SCORE:                                                                                                                 \n",
      "0.6878189483026403                                                                                                     \n",
      "  2%|▉                                              | 2/100 [00:00<00:43,  2.25trial/s, best loss: -0.6878189483026403]"
     ]
    },
    {
     "name": "stderr",
     "output_type": "stream",
     "text": [
      "C:\\Users\\gowgi\\anaconda3\\lib\\site-packages\\xgboost\\sklearn.py:793: UserWarning: `eval_metric` in `fit` method is deprecated for better compatibility with scikit-learn, use `eval_metric` in constructor or`set_params` instead.\n",
      "  warnings.warn(\n",
      "\n",
      "C:\\Users\\gowgi\\anaconda3\\lib\\site-packages\\xgboost\\sklearn.py:793: UserWarning: `early_stopping_rounds` in `fit` method is deprecated for better compatibility with scikit-learn, use `early_stopping_rounds` in constructor or`set_params` instead.\n",
      "  warnings.warn(\n",
      "\n"
     ]
    },
    {
     "name": "stdout",
     "output_type": "stream",
     "text": [
      "SCORE:                                                                                                                 \n",
      "0.6878189483026403                                                                                                     \n",
      "  3%|█▍                                             | 3/100 [00:01<00:40,  2.40trial/s, best loss: -0.6878189483026403]"
     ]
    },
    {
     "name": "stderr",
     "output_type": "stream",
     "text": [
      "C:\\Users\\gowgi\\anaconda3\\lib\\site-packages\\xgboost\\sklearn.py:793: UserWarning: `eval_metric` in `fit` method is deprecated for better compatibility with scikit-learn, use `eval_metric` in constructor or`set_params` instead.\n",
      "  warnings.warn(\n",
      "\n",
      "C:\\Users\\gowgi\\anaconda3\\lib\\site-packages\\xgboost\\sklearn.py:793: UserWarning: `early_stopping_rounds` in `fit` method is deprecated for better compatibility with scikit-learn, use `early_stopping_rounds` in constructor or`set_params` instead.\n",
      "  warnings.warn(\n",
      "\n"
     ]
    },
    {
     "name": "stdout",
     "output_type": "stream",
     "text": [
      "SCORE:                                                                                                                 \n",
      "0.6878189483026403                                                                                                     \n",
      "  4%|█▉                                             | 4/100 [00:01<00:36,  2.62trial/s, best loss: -0.6878189483026403]"
     ]
    },
    {
     "name": "stderr",
     "output_type": "stream",
     "text": [
      "C:\\Users\\gowgi\\anaconda3\\lib\\site-packages\\xgboost\\sklearn.py:793: UserWarning: `eval_metric` in `fit` method is deprecated for better compatibility with scikit-learn, use `eval_metric` in constructor or`set_params` instead.\n",
      "  warnings.warn(\n",
      "\n",
      "C:\\Users\\gowgi\\anaconda3\\lib\\site-packages\\xgboost\\sklearn.py:793: UserWarning: `early_stopping_rounds` in `fit` method is deprecated for better compatibility with scikit-learn, use `early_stopping_rounds` in constructor or`set_params` instead.\n",
      "  warnings.warn(\n",
      "\n"
     ]
    },
    {
     "name": "stdout",
     "output_type": "stream",
     "text": [
      "SCORE:                                                                                                                 \n",
      "0.6878189483026403                                                                                                     \n",
      "  5%|██▎                                            | 5/100 [00:01<00:33,  2.85trial/s, best loss: -0.6878189483026403]"
     ]
    },
    {
     "name": "stderr",
     "output_type": "stream",
     "text": [
      "C:\\Users\\gowgi\\anaconda3\\lib\\site-packages\\xgboost\\sklearn.py:793: UserWarning: `eval_metric` in `fit` method is deprecated for better compatibility with scikit-learn, use `eval_metric` in constructor or`set_params` instead.\n",
      "  warnings.warn(\n",
      "\n",
      "C:\\Users\\gowgi\\anaconda3\\lib\\site-packages\\xgboost\\sklearn.py:793: UserWarning: `early_stopping_rounds` in `fit` method is deprecated for better compatibility with scikit-learn, use `early_stopping_rounds` in constructor or`set_params` instead.\n",
      "  warnings.warn(\n",
      "\n"
     ]
    },
    {
     "name": "stdout",
     "output_type": "stream",
     "text": [
      "SCORE:                                                                                                                 \n",
      "0.6878189483026403                                                                                                     \n",
      "  6%|██▊                                            | 6/100 [00:02<00:33,  2.78trial/s, best loss: -0.6878189483026403]"
     ]
    },
    {
     "name": "stderr",
     "output_type": "stream",
     "text": [
      "C:\\Users\\gowgi\\anaconda3\\lib\\site-packages\\xgboost\\sklearn.py:793: UserWarning: `eval_metric` in `fit` method is deprecated for better compatibility with scikit-learn, use `eval_metric` in constructor or`set_params` instead.\n",
      "  warnings.warn(\n",
      "\n",
      "C:\\Users\\gowgi\\anaconda3\\lib\\site-packages\\xgboost\\sklearn.py:793: UserWarning: `early_stopping_rounds` in `fit` method is deprecated for better compatibility with scikit-learn, use `early_stopping_rounds` in constructor or`set_params` instead.\n",
      "  warnings.warn(\n",
      "\n"
     ]
    },
    {
     "name": "stdout",
     "output_type": "stream",
     "text": [
      "SCORE:                                                                                                                 \n",
      "0.6878189483026403                                                                                                     \n",
      "  7%|███▎                                           | 7/100 [00:02<00:34,  2.68trial/s, best loss: -0.6878189483026403]"
     ]
    },
    {
     "name": "stderr",
     "output_type": "stream",
     "text": [
      "C:\\Users\\gowgi\\anaconda3\\lib\\site-packages\\xgboost\\sklearn.py:793: UserWarning: `eval_metric` in `fit` method is deprecated for better compatibility with scikit-learn, use `eval_metric` in constructor or`set_params` instead.\n",
      "  warnings.warn(\n",
      "\n",
      "C:\\Users\\gowgi\\anaconda3\\lib\\site-packages\\xgboost\\sklearn.py:793: UserWarning: `early_stopping_rounds` in `fit` method is deprecated for better compatibility with scikit-learn, use `early_stopping_rounds` in constructor or`set_params` instead.\n",
      "  warnings.warn(\n",
      "\n"
     ]
    },
    {
     "name": "stdout",
     "output_type": "stream",
     "text": [
      "SCORE:                                                                                                                 \n",
      "0.6878189483026403                                                                                                     \n",
      "  8%|███▊                                           | 8/100 [00:03<00:47,  1.93trial/s, best loss: -0.6878189483026403]"
     ]
    },
    {
     "name": "stderr",
     "output_type": "stream",
     "text": [
      "C:\\Users\\gowgi\\anaconda3\\lib\\site-packages\\xgboost\\sklearn.py:793: UserWarning: `eval_metric` in `fit` method is deprecated for better compatibility with scikit-learn, use `eval_metric` in constructor or`set_params` instead.\n",
      "  warnings.warn(\n",
      "\n",
      "C:\\Users\\gowgi\\anaconda3\\lib\\site-packages\\xgboost\\sklearn.py:793: UserWarning: `early_stopping_rounds` in `fit` method is deprecated for better compatibility with scikit-learn, use `early_stopping_rounds` in constructor or`set_params` instead.\n",
      "  warnings.warn(\n",
      "\n"
     ]
    },
    {
     "name": "stdout",
     "output_type": "stream",
     "text": [
      "SCORE:                                                                                                                 \n",
      "0.6878189483026403                                                                                                     \n",
      "  9%|████▏                                          | 9/100 [00:03<00:43,  2.08trial/s, best loss: -0.6878189483026403]"
     ]
    },
    {
     "name": "stderr",
     "output_type": "stream",
     "text": [
      "C:\\Users\\gowgi\\anaconda3\\lib\\site-packages\\xgboost\\sklearn.py:793: UserWarning: `eval_metric` in `fit` method is deprecated for better compatibility with scikit-learn, use `eval_metric` in constructor or`set_params` instead.\n",
      "  warnings.warn(\n",
      "\n",
      "C:\\Users\\gowgi\\anaconda3\\lib\\site-packages\\xgboost\\sklearn.py:793: UserWarning: `early_stopping_rounds` in `fit` method is deprecated for better compatibility with scikit-learn, use `early_stopping_rounds` in constructor or`set_params` instead.\n",
      "  warnings.warn(\n",
      "\n"
     ]
    },
    {
     "name": "stdout",
     "output_type": "stream",
     "text": [
      "SCORE:                                                                                                                 \n",
      "0.6878189483026403                                                                                                     \n",
      " 10%|████▌                                         | 10/100 [00:04<00:53,  1.70trial/s, best loss: -0.6878189483026403]"
     ]
    },
    {
     "name": "stderr",
     "output_type": "stream",
     "text": [
      "C:\\Users\\gowgi\\anaconda3\\lib\\site-packages\\xgboost\\sklearn.py:793: UserWarning: `eval_metric` in `fit` method is deprecated for better compatibility with scikit-learn, use `eval_metric` in constructor or`set_params` instead.\n",
      "  warnings.warn(\n",
      "\n",
      "C:\\Users\\gowgi\\anaconda3\\lib\\site-packages\\xgboost\\sklearn.py:793: UserWarning: `early_stopping_rounds` in `fit` method is deprecated for better compatibility with scikit-learn, use `early_stopping_rounds` in constructor or`set_params` instead.\n",
      "  warnings.warn(\n",
      "\n"
     ]
    },
    {
     "name": "stdout",
     "output_type": "stream",
     "text": [
      "SCORE:                                                                                                                 \n",
      "0.6878189483026403                                                                                                     \n",
      " 11%|█████                                         | 11/100 [00:05<00:59,  1.50trial/s, best loss: -0.6878189483026403]"
     ]
    },
    {
     "name": "stderr",
     "output_type": "stream",
     "text": [
      "C:\\Users\\gowgi\\anaconda3\\lib\\site-packages\\xgboost\\sklearn.py:793: UserWarning: `eval_metric` in `fit` method is deprecated for better compatibility with scikit-learn, use `eval_metric` in constructor or`set_params` instead.\n",
      "  warnings.warn(\n",
      "\n",
      "C:\\Users\\gowgi\\anaconda3\\lib\\site-packages\\xgboost\\sklearn.py:793: UserWarning: `early_stopping_rounds` in `fit` method is deprecated for better compatibility with scikit-learn, use `early_stopping_rounds` in constructor or`set_params` instead.\n",
      "  warnings.warn(\n",
      "\n"
     ]
    },
    {
     "name": "stdout",
     "output_type": "stream",
     "text": [
      "SCORE:                                                                                                                 \n",
      "0.6878189483026403                                                                                                     \n",
      " 12%|█████▌                                        | 12/100 [00:05<00:51,  1.72trial/s, best loss: -0.6878189483026403]"
     ]
    },
    {
     "name": "stderr",
     "output_type": "stream",
     "text": [
      "C:\\Users\\gowgi\\anaconda3\\lib\\site-packages\\xgboost\\sklearn.py:793: UserWarning: `eval_metric` in `fit` method is deprecated for better compatibility with scikit-learn, use `eval_metric` in constructor or`set_params` instead.\n",
      "  warnings.warn(\n",
      "\n",
      "C:\\Users\\gowgi\\anaconda3\\lib\\site-packages\\xgboost\\sklearn.py:793: UserWarning: `early_stopping_rounds` in `fit` method is deprecated for better compatibility with scikit-learn, use `early_stopping_rounds` in constructor or`set_params` instead.\n",
      "  warnings.warn(\n",
      "\n"
     ]
    },
    {
     "name": "stdout",
     "output_type": "stream",
     "text": [
      "SCORE:                                                                                                                 \n",
      "0.6878189483026403                                                                                                     \n",
      " 13%|█████▉                                        | 13/100 [00:06<00:45,  1.90trial/s, best loss: -0.6878189483026403]"
     ]
    },
    {
     "name": "stderr",
     "output_type": "stream",
     "text": [
      "C:\\Users\\gowgi\\anaconda3\\lib\\site-packages\\xgboost\\sklearn.py:793: UserWarning: `eval_metric` in `fit` method is deprecated for better compatibility with scikit-learn, use `eval_metric` in constructor or`set_params` instead.\n",
      "  warnings.warn(\n",
      "\n",
      "C:\\Users\\gowgi\\anaconda3\\lib\\site-packages\\xgboost\\sklearn.py:793: UserWarning: `early_stopping_rounds` in `fit` method is deprecated for better compatibility with scikit-learn, use `early_stopping_rounds` in constructor or`set_params` instead.\n",
      "  warnings.warn(\n",
      "\n"
     ]
    },
    {
     "name": "stdout",
     "output_type": "stream",
     "text": [
      "SCORE:                                                                                                                 \n",
      "0.6878189483026403                                                                                                     \n",
      " 14%|██████▍                                       | 14/100 [00:06<00:41,  2.06trial/s, best loss: -0.6878189483026403]"
     ]
    },
    {
     "name": "stderr",
     "output_type": "stream",
     "text": [
      "C:\\Users\\gowgi\\anaconda3\\lib\\site-packages\\xgboost\\sklearn.py:793: UserWarning: `eval_metric` in `fit` method is deprecated for better compatibility with scikit-learn, use `eval_metric` in constructor or`set_params` instead.\n",
      "  warnings.warn(\n",
      "\n",
      "C:\\Users\\gowgi\\anaconda3\\lib\\site-packages\\xgboost\\sklearn.py:793: UserWarning: `early_stopping_rounds` in `fit` method is deprecated for better compatibility with scikit-learn, use `early_stopping_rounds` in constructor or`set_params` instead.\n",
      "  warnings.warn(\n",
      "\n"
     ]
    },
    {
     "name": "stdout",
     "output_type": "stream",
     "text": [
      "SCORE:                                                                                                                 \n",
      "0.6878189483026403                                                                                                     \n",
      " 15%|██████▉                                       | 15/100 [00:07<00:38,  2.18trial/s, best loss: -0.6878189483026403]"
     ]
    },
    {
     "name": "stderr",
     "output_type": "stream",
     "text": [
      "C:\\Users\\gowgi\\anaconda3\\lib\\site-packages\\xgboost\\sklearn.py:793: UserWarning: `eval_metric` in `fit` method is deprecated for better compatibility with scikit-learn, use `eval_metric` in constructor or`set_params` instead.\n",
      "  warnings.warn(\n",
      "\n",
      "C:\\Users\\gowgi\\anaconda3\\lib\\site-packages\\xgboost\\sklearn.py:793: UserWarning: `early_stopping_rounds` in `fit` method is deprecated for better compatibility with scikit-learn, use `early_stopping_rounds` in constructor or`set_params` instead.\n",
      "  warnings.warn(\n",
      "\n"
     ]
    },
    {
     "name": "stdout",
     "output_type": "stream",
     "text": [
      "SCORE:                                                                                                                 \n",
      "0.6878189483026403                                                                                                     \n",
      " 16%|███████▎                                      | 16/100 [00:07<00:39,  2.15trial/s, best loss: -0.6878189483026403]"
     ]
    },
    {
     "name": "stderr",
     "output_type": "stream",
     "text": [
      "C:\\Users\\gowgi\\anaconda3\\lib\\site-packages\\xgboost\\sklearn.py:793: UserWarning: `eval_metric` in `fit` method is deprecated for better compatibility with scikit-learn, use `eval_metric` in constructor or`set_params` instead.\n",
      "  warnings.warn(\n",
      "\n",
      "C:\\Users\\gowgi\\anaconda3\\lib\\site-packages\\xgboost\\sklearn.py:793: UserWarning: `early_stopping_rounds` in `fit` method is deprecated for better compatibility with scikit-learn, use `early_stopping_rounds` in constructor or`set_params` instead.\n",
      "  warnings.warn(\n",
      "\n"
     ]
    },
    {
     "name": "stdout",
     "output_type": "stream",
     "text": [
      "SCORE:                                                                                                                 \n",
      "0.6878189483026403                                                                                                     \n",
      " 17%|███████▊                                      | 17/100 [00:08<00:48,  1.72trial/s, best loss: -0.6878189483026403]"
     ]
    },
    {
     "name": "stderr",
     "output_type": "stream",
     "text": [
      "C:\\Users\\gowgi\\anaconda3\\lib\\site-packages\\xgboost\\sklearn.py:793: UserWarning: `eval_metric` in `fit` method is deprecated for better compatibility with scikit-learn, use `eval_metric` in constructor or`set_params` instead.\n",
      "  warnings.warn(\n",
      "\n",
      "C:\\Users\\gowgi\\anaconda3\\lib\\site-packages\\xgboost\\sklearn.py:793: UserWarning: `early_stopping_rounds` in `fit` method is deprecated for better compatibility with scikit-learn, use `early_stopping_rounds` in constructor or`set_params` instead.\n",
      "  warnings.warn(\n",
      "\n"
     ]
    },
    {
     "name": "stdout",
     "output_type": "stream",
     "text": [
      "SCORE:                                                                                                                 \n",
      "0.6878189483026403                                                                                                     \n",
      " 18%|████████▎                                     | 18/100 [00:08<00:42,  1.91trial/s, best loss: -0.6878189483026403]"
     ]
    },
    {
     "name": "stderr",
     "output_type": "stream",
     "text": [
      "C:\\Users\\gowgi\\anaconda3\\lib\\site-packages\\xgboost\\sklearn.py:793: UserWarning: `eval_metric` in `fit` method is deprecated for better compatibility with scikit-learn, use `eval_metric` in constructor or`set_params` instead.\n",
      "  warnings.warn(\n",
      "\n",
      "C:\\Users\\gowgi\\anaconda3\\lib\\site-packages\\xgboost\\sklearn.py:793: UserWarning: `early_stopping_rounds` in `fit` method is deprecated for better compatibility with scikit-learn, use `early_stopping_rounds` in constructor or`set_params` instead.\n",
      "  warnings.warn(\n",
      "\n"
     ]
    },
    {
     "name": "stdout",
     "output_type": "stream",
     "text": [
      "SCORE:                                                                                                                 \n",
      "0.6878189483026403                                                                                                     \n",
      " 19%|████████▋                                     | 19/100 [00:09<00:50,  1.62trial/s, best loss: -0.6878189483026403]"
     ]
    },
    {
     "name": "stderr",
     "output_type": "stream",
     "text": [
      "C:\\Users\\gowgi\\anaconda3\\lib\\site-packages\\xgboost\\sklearn.py:793: UserWarning: `eval_metric` in `fit` method is deprecated for better compatibility with scikit-learn, use `eval_metric` in constructor or`set_params` instead.\n",
      "  warnings.warn(\n",
      "\n",
      "C:\\Users\\gowgi\\anaconda3\\lib\\site-packages\\xgboost\\sklearn.py:793: UserWarning: `early_stopping_rounds` in `fit` method is deprecated for better compatibility with scikit-learn, use `early_stopping_rounds` in constructor or`set_params` instead.\n",
      "  warnings.warn(\n",
      "\n"
     ]
    },
    {
     "name": "stdout",
     "output_type": "stream",
     "text": [
      "SCORE:                                                                                                                 \n",
      "0.6878189483026403                                                                                                     \n",
      " 20%|█████████▏                                    | 20/100 [00:10<00:41,  1.92trial/s, best loss: -0.6878189483026403]"
     ]
    },
    {
     "name": "stderr",
     "output_type": "stream",
     "text": [
      "C:\\Users\\gowgi\\anaconda3\\lib\\site-packages\\xgboost\\sklearn.py:793: UserWarning: `eval_metric` in `fit` method is deprecated for better compatibility with scikit-learn, use `eval_metric` in constructor or`set_params` instead.\n",
      "  warnings.warn(\n",
      "\n",
      "C:\\Users\\gowgi\\anaconda3\\lib\\site-packages\\xgboost\\sklearn.py:793: UserWarning: `early_stopping_rounds` in `fit` method is deprecated for better compatibility with scikit-learn, use `early_stopping_rounds` in constructor or`set_params` instead.\n",
      "  warnings.warn(\n",
      "\n"
     ]
    },
    {
     "name": "stdout",
     "output_type": "stream",
     "text": [
      "SCORE:                                                                                                                 \n",
      "0.6878189483026403                                                                                                     \n",
      " 21%|█████████▋                                    | 21/100 [00:10<00:38,  2.08trial/s, best loss: -0.6878189483026403]"
     ]
    },
    {
     "name": "stderr",
     "output_type": "stream",
     "text": [
      "C:\\Users\\gowgi\\anaconda3\\lib\\site-packages\\xgboost\\sklearn.py:793: UserWarning: `eval_metric` in `fit` method is deprecated for better compatibility with scikit-learn, use `eval_metric` in constructor or`set_params` instead.\n",
      "  warnings.warn(\n",
      "\n",
      "C:\\Users\\gowgi\\anaconda3\\lib\\site-packages\\xgboost\\sklearn.py:793: UserWarning: `early_stopping_rounds` in `fit` method is deprecated for better compatibility with scikit-learn, use `early_stopping_rounds` in constructor or`set_params` instead.\n",
      "  warnings.warn(\n",
      "\n"
     ]
    },
    {
     "name": "stdout",
     "output_type": "stream",
     "text": [
      "SCORE:                                                                                                                 \n",
      "0.6878189483026403                                                                                                     \n",
      " 22%|██████████                                    | 22/100 [00:10<00:35,  2.19trial/s, best loss: -0.6878189483026403]"
     ]
    },
    {
     "name": "stderr",
     "output_type": "stream",
     "text": [
      "C:\\Users\\gowgi\\anaconda3\\lib\\site-packages\\xgboost\\sklearn.py:793: UserWarning: `eval_metric` in `fit` method is deprecated for better compatibility with scikit-learn, use `eval_metric` in constructor or`set_params` instead.\n",
      "  warnings.warn(\n",
      "\n",
      "C:\\Users\\gowgi\\anaconda3\\lib\\site-packages\\xgboost\\sklearn.py:793: UserWarning: `early_stopping_rounds` in `fit` method is deprecated for better compatibility with scikit-learn, use `early_stopping_rounds` in constructor or`set_params` instead.\n",
      "  warnings.warn(\n",
      "\n"
     ]
    },
    {
     "name": "stdout",
     "output_type": "stream",
     "text": [
      "SCORE:                                                                                                                 \n",
      "0.6878189483026403                                                                                                     \n",
      " 23%|██████████▌                                   | 23/100 [00:11<00:34,  2.25trial/s, best loss: -0.6878189483026403]"
     ]
    },
    {
     "name": "stderr",
     "output_type": "stream",
     "text": [
      "C:\\Users\\gowgi\\anaconda3\\lib\\site-packages\\xgboost\\sklearn.py:793: UserWarning: `eval_metric` in `fit` method is deprecated for better compatibility with scikit-learn, use `eval_metric` in constructor or`set_params` instead.\n",
      "  warnings.warn(\n",
      "\n",
      "C:\\Users\\gowgi\\anaconda3\\lib\\site-packages\\xgboost\\sklearn.py:793: UserWarning: `early_stopping_rounds` in `fit` method is deprecated for better compatibility with scikit-learn, use `early_stopping_rounds` in constructor or`set_params` instead.\n",
      "  warnings.warn(\n",
      "\n"
     ]
    },
    {
     "name": "stdout",
     "output_type": "stream",
     "text": [
      "SCORE:                                                                                                                 \n",
      "0.6878189483026403                                                                                                     \n",
      " 24%|███████████                                   | 24/100 [00:11<00:32,  2.33trial/s, best loss: -0.6878189483026403]"
     ]
    },
    {
     "name": "stderr",
     "output_type": "stream",
     "text": [
      "C:\\Users\\gowgi\\anaconda3\\lib\\site-packages\\xgboost\\sklearn.py:793: UserWarning: `eval_metric` in `fit` method is deprecated for better compatibility with scikit-learn, use `eval_metric` in constructor or`set_params` instead.\n",
      "  warnings.warn(\n",
      "\n",
      "C:\\Users\\gowgi\\anaconda3\\lib\\site-packages\\xgboost\\sklearn.py:793: UserWarning: `early_stopping_rounds` in `fit` method is deprecated for better compatibility with scikit-learn, use `early_stopping_rounds` in constructor or`set_params` instead.\n",
      "  warnings.warn(\n",
      "\n"
     ]
    },
    {
     "name": "stdout",
     "output_type": "stream",
     "text": [
      "SCORE:                                                                                                                 \n",
      "0.6878189483026403                                                                                                     \n",
      " 25%|███████████▌                                  | 25/100 [00:12<00:31,  2.36trial/s, best loss: -0.6878189483026403]"
     ]
    },
    {
     "name": "stderr",
     "output_type": "stream",
     "text": [
      "C:\\Users\\gowgi\\anaconda3\\lib\\site-packages\\xgboost\\sklearn.py:793: UserWarning: `eval_metric` in `fit` method is deprecated for better compatibility with scikit-learn, use `eval_metric` in constructor or`set_params` instead.\n",
      "  warnings.warn(\n",
      "\n",
      "C:\\Users\\gowgi\\anaconda3\\lib\\site-packages\\xgboost\\sklearn.py:793: UserWarning: `early_stopping_rounds` in `fit` method is deprecated for better compatibility with scikit-learn, use `early_stopping_rounds` in constructor or`set_params` instead.\n",
      "  warnings.warn(\n",
      "\n"
     ]
    },
    {
     "name": "stdout",
     "output_type": "stream",
     "text": [
      "SCORE:                                                                                                                 \n",
      "0.6878189483026403                                                                                                     \n",
      " 26%|███████████▉                                  | 26/100 [00:12<00:30,  2.40trial/s, best loss: -0.6878189483026403]"
     ]
    },
    {
     "name": "stderr",
     "output_type": "stream",
     "text": [
      "C:\\Users\\gowgi\\anaconda3\\lib\\site-packages\\xgboost\\sklearn.py:793: UserWarning: `eval_metric` in `fit` method is deprecated for better compatibility with scikit-learn, use `eval_metric` in constructor or`set_params` instead.\n",
      "  warnings.warn(\n",
      "\n",
      "C:\\Users\\gowgi\\anaconda3\\lib\\site-packages\\xgboost\\sklearn.py:793: UserWarning: `early_stopping_rounds` in `fit` method is deprecated for better compatibility with scikit-learn, use `early_stopping_rounds` in constructor or`set_params` instead.\n",
      "  warnings.warn(\n",
      "\n"
     ]
    },
    {
     "name": "stdout",
     "output_type": "stream",
     "text": [
      "SCORE:                                                                                                                 \n",
      "0.6878189483026403                                                                                                     \n",
      " 27%|████████████▍                                 | 27/100 [00:12<00:30,  2.42trial/s, best loss: -0.6878189483026403]"
     ]
    },
    {
     "name": "stderr",
     "output_type": "stream",
     "text": [
      "C:\\Users\\gowgi\\anaconda3\\lib\\site-packages\\xgboost\\sklearn.py:793: UserWarning: `eval_metric` in `fit` method is deprecated for better compatibility with scikit-learn, use `eval_metric` in constructor or`set_params` instead.\n",
      "  warnings.warn(\n",
      "\n",
      "C:\\Users\\gowgi\\anaconda3\\lib\\site-packages\\xgboost\\sklearn.py:793: UserWarning: `early_stopping_rounds` in `fit` method is deprecated for better compatibility with scikit-learn, use `early_stopping_rounds` in constructor or`set_params` instead.\n",
      "  warnings.warn(\n",
      "\n"
     ]
    },
    {
     "name": "stdout",
     "output_type": "stream",
     "text": [
      "SCORE:                                                                                                                 \n",
      "0.6878189483026403                                                                                                     \n",
      " 28%|████████████▉                                 | 28/100 [00:13<00:29,  2.46trial/s, best loss: -0.6878189483026403]"
     ]
    },
    {
     "name": "stderr",
     "output_type": "stream",
     "text": [
      "C:\\Users\\gowgi\\anaconda3\\lib\\site-packages\\xgboost\\sklearn.py:793: UserWarning: `eval_metric` in `fit` method is deprecated for better compatibility with scikit-learn, use `eval_metric` in constructor or`set_params` instead.\n",
      "  warnings.warn(\n",
      "\n",
      "C:\\Users\\gowgi\\anaconda3\\lib\\site-packages\\xgboost\\sklearn.py:793: UserWarning: `early_stopping_rounds` in `fit` method is deprecated for better compatibility with scikit-learn, use `early_stopping_rounds` in constructor or`set_params` instead.\n",
      "  warnings.warn(\n",
      "\n"
     ]
    },
    {
     "name": "stdout",
     "output_type": "stream",
     "text": [
      "SCORE:                                                                                                                 \n",
      "0.6878189483026403                                                                                                     \n",
      " 29%|█████████████▎                                | 29/100 [00:14<00:40,  1.76trial/s, best loss: -0.6878189483026403]"
     ]
    },
    {
     "name": "stderr",
     "output_type": "stream",
     "text": [
      "C:\\Users\\gowgi\\anaconda3\\lib\\site-packages\\xgboost\\sklearn.py:793: UserWarning: `eval_metric` in `fit` method is deprecated for better compatibility with scikit-learn, use `eval_metric` in constructor or`set_params` instead.\n",
      "  warnings.warn(\n",
      "\n",
      "C:\\Users\\gowgi\\anaconda3\\lib\\site-packages\\xgboost\\sklearn.py:793: UserWarning: `early_stopping_rounds` in `fit` method is deprecated for better compatibility with scikit-learn, use `early_stopping_rounds` in constructor or`set_params` instead.\n",
      "  warnings.warn(\n",
      "\n"
     ]
    },
    {
     "name": "stdout",
     "output_type": "stream",
     "text": [
      "SCORE:                                                                                                                 \n",
      "0.6878189483026403                                                                                                     \n",
      " 30%|█████████████▊                                | 30/100 [00:14<00:36,  1.93trial/s, best loss: -0.6878189483026403]"
     ]
    },
    {
     "name": "stderr",
     "output_type": "stream",
     "text": [
      "C:\\Users\\gowgi\\anaconda3\\lib\\site-packages\\xgboost\\sklearn.py:793: UserWarning: `eval_metric` in `fit` method is deprecated for better compatibility with scikit-learn, use `eval_metric` in constructor or`set_params` instead.\n",
      "  warnings.warn(\n",
      "\n",
      "C:\\Users\\gowgi\\anaconda3\\lib\\site-packages\\xgboost\\sklearn.py:793: UserWarning: `early_stopping_rounds` in `fit` method is deprecated for better compatibility with scikit-learn, use `early_stopping_rounds` in constructor or`set_params` instead.\n",
      "  warnings.warn(\n",
      "\n"
     ]
    },
    {
     "name": "stdout",
     "output_type": "stream",
     "text": [
      "SCORE:                                                                                                                 \n",
      "0.6878189483026403                                                                                                     \n",
      " 31%|██████████████▎                               | 31/100 [00:14<00:33,  2.03trial/s, best loss: -0.6878189483026403]"
     ]
    },
    {
     "name": "stderr",
     "output_type": "stream",
     "text": [
      "C:\\Users\\gowgi\\anaconda3\\lib\\site-packages\\xgboost\\sklearn.py:793: UserWarning: `eval_metric` in `fit` method is deprecated for better compatibility with scikit-learn, use `eval_metric` in constructor or`set_params` instead.\n",
      "  warnings.warn(\n",
      "\n",
      "C:\\Users\\gowgi\\anaconda3\\lib\\site-packages\\xgboost\\sklearn.py:793: UserWarning: `early_stopping_rounds` in `fit` method is deprecated for better compatibility with scikit-learn, use `early_stopping_rounds` in constructor or`set_params` instead.\n",
      "  warnings.warn(\n",
      "\n"
     ]
    },
    {
     "name": "stdout",
     "output_type": "stream",
     "text": [
      "SCORE:                                                                                                                 \n",
      "0.6878189483026403                                                                                                     \n",
      " 32%|██████████████▋                               | 32/100 [00:15<00:40,  1.68trial/s, best loss: -0.6878189483026403]"
     ]
    },
    {
     "name": "stderr",
     "output_type": "stream",
     "text": [
      "C:\\Users\\gowgi\\anaconda3\\lib\\site-packages\\xgboost\\sklearn.py:793: UserWarning: `eval_metric` in `fit` method is deprecated for better compatibility with scikit-learn, use `eval_metric` in constructor or`set_params` instead.\n",
      "  warnings.warn(\n",
      "\n",
      "C:\\Users\\gowgi\\anaconda3\\lib\\site-packages\\xgboost\\sklearn.py:793: UserWarning: `early_stopping_rounds` in `fit` method is deprecated for better compatibility with scikit-learn, use `early_stopping_rounds` in constructor or`set_params` instead.\n",
      "  warnings.warn(\n",
      "\n"
     ]
    },
    {
     "name": "stdout",
     "output_type": "stream",
     "text": [
      "SCORE:                                                                                                                 \n",
      "0.6878189483026403                                                                                                     \n",
      " 33%|███████████████▏                              | 33/100 [00:16<00:36,  1.86trial/s, best loss: -0.6878189483026403]"
     ]
    },
    {
     "name": "stderr",
     "output_type": "stream",
     "text": [
      "C:\\Users\\gowgi\\anaconda3\\lib\\site-packages\\xgboost\\sklearn.py:793: UserWarning: `eval_metric` in `fit` method is deprecated for better compatibility with scikit-learn, use `eval_metric` in constructor or`set_params` instead.\n",
      "  warnings.warn(\n",
      "\n",
      "C:\\Users\\gowgi\\anaconda3\\lib\\site-packages\\xgboost\\sklearn.py:793: UserWarning: `early_stopping_rounds` in `fit` method is deprecated for better compatibility with scikit-learn, use `early_stopping_rounds` in constructor or`set_params` instead.\n",
      "  warnings.warn(\n",
      "\n"
     ]
    },
    {
     "name": "stdout",
     "output_type": "stream",
     "text": [
      "SCORE:                                                                                                                 \n",
      "0.6878189483026403                                                                                                     \n",
      " 34%|███████████████▋                              | 34/100 [00:16<00:31,  2.08trial/s, best loss: -0.6878189483026403]"
     ]
    },
    {
     "name": "stderr",
     "output_type": "stream",
     "text": [
      "C:\\Users\\gowgi\\anaconda3\\lib\\site-packages\\xgboost\\sklearn.py:793: UserWarning: `eval_metric` in `fit` method is deprecated for better compatibility with scikit-learn, use `eval_metric` in constructor or`set_params` instead.\n",
      "  warnings.warn(\n",
      "\n",
      "C:\\Users\\gowgi\\anaconda3\\lib\\site-packages\\xgboost\\sklearn.py:793: UserWarning: `early_stopping_rounds` in `fit` method is deprecated for better compatibility with scikit-learn, use `early_stopping_rounds` in constructor or`set_params` instead.\n",
      "  warnings.warn(\n",
      "\n"
     ]
    },
    {
     "name": "stdout",
     "output_type": "stream",
     "text": [
      "SCORE:                                                                                                                 \n",
      "0.6878189483026403                                                                                                     \n",
      " 35%|████████████████                              | 35/100 [00:17<00:30,  2.13trial/s, best loss: -0.6878189483026403]"
     ]
    },
    {
     "name": "stderr",
     "output_type": "stream",
     "text": [
      "C:\\Users\\gowgi\\anaconda3\\lib\\site-packages\\xgboost\\sklearn.py:793: UserWarning: `eval_metric` in `fit` method is deprecated for better compatibility with scikit-learn, use `eval_metric` in constructor or`set_params` instead.\n",
      "  warnings.warn(\n",
      "\n",
      "C:\\Users\\gowgi\\anaconda3\\lib\\site-packages\\xgboost\\sklearn.py:793: UserWarning: `early_stopping_rounds` in `fit` method is deprecated for better compatibility with scikit-learn, use `early_stopping_rounds` in constructor or`set_params` instead.\n",
      "  warnings.warn(\n",
      "\n"
     ]
    },
    {
     "name": "stdout",
     "output_type": "stream",
     "text": [
      "SCORE:                                                                                                                 \n",
      "0.6878189483026403                                                                                                     \n",
      " 36%|████████████████▌                             | 36/100 [00:17<00:27,  2.29trial/s, best loss: -0.6878189483026403]"
     ]
    },
    {
     "name": "stderr",
     "output_type": "stream",
     "text": [
      "C:\\Users\\gowgi\\anaconda3\\lib\\site-packages\\xgboost\\sklearn.py:793: UserWarning: `eval_metric` in `fit` method is deprecated for better compatibility with scikit-learn, use `eval_metric` in constructor or`set_params` instead.\n",
      "  warnings.warn(\n",
      "\n",
      "C:\\Users\\gowgi\\anaconda3\\lib\\site-packages\\xgboost\\sklearn.py:793: UserWarning: `early_stopping_rounds` in `fit` method is deprecated for better compatibility with scikit-learn, use `early_stopping_rounds` in constructor or`set_params` instead.\n",
      "  warnings.warn(\n",
      "\n"
     ]
    },
    {
     "name": "stdout",
     "output_type": "stream",
     "text": [
      "SCORE:                                                                                                                 \n",
      "0.6878189483026403                                                                                                     \n",
      " 37%|█████████████████                             | 37/100 [00:17<00:27,  2.30trial/s, best loss: -0.6878189483026403]"
     ]
    },
    {
     "name": "stderr",
     "output_type": "stream",
     "text": [
      "C:\\Users\\gowgi\\anaconda3\\lib\\site-packages\\xgboost\\sklearn.py:793: UserWarning: `eval_metric` in `fit` method is deprecated for better compatibility with scikit-learn, use `eval_metric` in constructor or`set_params` instead.\n",
      "  warnings.warn(\n",
      "\n",
      "C:\\Users\\gowgi\\anaconda3\\lib\\site-packages\\xgboost\\sklearn.py:793: UserWarning: `early_stopping_rounds` in `fit` method is deprecated for better compatibility with scikit-learn, use `early_stopping_rounds` in constructor or`set_params` instead.\n",
      "  warnings.warn(\n",
      "\n"
     ]
    },
    {
     "name": "stdout",
     "output_type": "stream",
     "text": [
      "SCORE:                                                                                                                 \n",
      "0.6878189483026403                                                                                                     \n",
      " 38%|█████████████████▍                            | 38/100 [00:18<00:26,  2.32trial/s, best loss: -0.6878189483026403]"
     ]
    },
    {
     "name": "stderr",
     "output_type": "stream",
     "text": [
      "C:\\Users\\gowgi\\anaconda3\\lib\\site-packages\\xgboost\\sklearn.py:793: UserWarning: `eval_metric` in `fit` method is deprecated for better compatibility with scikit-learn, use `eval_metric` in constructor or`set_params` instead.\n",
      "  warnings.warn(\n",
      "\n",
      "C:\\Users\\gowgi\\anaconda3\\lib\\site-packages\\xgboost\\sklearn.py:793: UserWarning: `early_stopping_rounds` in `fit` method is deprecated for better compatibility with scikit-learn, use `early_stopping_rounds` in constructor or`set_params` instead.\n",
      "  warnings.warn(\n",
      "\n"
     ]
    },
    {
     "name": "stdout",
     "output_type": "stream",
     "text": [
      "SCORE:                                                                                                                 \n",
      "0.6878189483026403                                                                                                     \n",
      " 39%|█████████████████▉                            | 39/100 [00:18<00:25,  2.35trial/s, best loss: -0.6878189483026403]"
     ]
    },
    {
     "name": "stderr",
     "output_type": "stream",
     "text": [
      "C:\\Users\\gowgi\\anaconda3\\lib\\site-packages\\xgboost\\sklearn.py:793: UserWarning: `eval_metric` in `fit` method is deprecated for better compatibility with scikit-learn, use `eval_metric` in constructor or`set_params` instead.\n",
      "  warnings.warn(\n",
      "\n",
      "C:\\Users\\gowgi\\anaconda3\\lib\\site-packages\\xgboost\\sklearn.py:793: UserWarning: `early_stopping_rounds` in `fit` method is deprecated for better compatibility with scikit-learn, use `early_stopping_rounds` in constructor or`set_params` instead.\n",
      "  warnings.warn(\n",
      "\n"
     ]
    },
    {
     "name": "stdout",
     "output_type": "stream",
     "text": [
      "SCORE:                                                                                                                 \n",
      "0.6878189483026403                                                                                                     \n",
      " 40%|██████████████████▍                           | 40/100 [00:19<00:25,  2.38trial/s, best loss: -0.6878189483026403]"
     ]
    },
    {
     "name": "stderr",
     "output_type": "stream",
     "text": [
      "C:\\Users\\gowgi\\anaconda3\\lib\\site-packages\\xgboost\\sklearn.py:793: UserWarning: `eval_metric` in `fit` method is deprecated for better compatibility with scikit-learn, use `eval_metric` in constructor or`set_params` instead.\n",
      "  warnings.warn(\n",
      "\n",
      "C:\\Users\\gowgi\\anaconda3\\lib\\site-packages\\xgboost\\sklearn.py:793: UserWarning: `early_stopping_rounds` in `fit` method is deprecated for better compatibility with scikit-learn, use `early_stopping_rounds` in constructor or`set_params` instead.\n",
      "  warnings.warn(\n",
      "\n"
     ]
    },
    {
     "name": "stdout",
     "output_type": "stream",
     "text": [
      "SCORE:                                                                                                                 \n",
      "0.6878189483026403                                                                                                     \n",
      " 41%|██████████████████▊                           | 41/100 [00:19<00:24,  2.36trial/s, best loss: -0.6878189483026403]"
     ]
    },
    {
     "name": "stderr",
     "output_type": "stream",
     "text": [
      "C:\\Users\\gowgi\\anaconda3\\lib\\site-packages\\xgboost\\sklearn.py:793: UserWarning: `eval_metric` in `fit` method is deprecated for better compatibility with scikit-learn, use `eval_metric` in constructor or`set_params` instead.\n",
      "  warnings.warn(\n",
      "\n",
      "C:\\Users\\gowgi\\anaconda3\\lib\\site-packages\\xgboost\\sklearn.py:793: UserWarning: `early_stopping_rounds` in `fit` method is deprecated for better compatibility with scikit-learn, use `early_stopping_rounds` in constructor or`set_params` instead.\n",
      "  warnings.warn(\n",
      "\n"
     ]
    },
    {
     "name": "stdout",
     "output_type": "stream",
     "text": [
      "SCORE:                                                                                                                 \n",
      "0.6878189483026403                                                                                                     \n",
      " 42%|███████████████████▎                          | 42/100 [00:20<00:32,  1.79trial/s, best loss: -0.6878189483026403]"
     ]
    },
    {
     "name": "stderr",
     "output_type": "stream",
     "text": [
      "C:\\Users\\gowgi\\anaconda3\\lib\\site-packages\\xgboost\\sklearn.py:793: UserWarning: `eval_metric` in `fit` method is deprecated for better compatibility with scikit-learn, use `eval_metric` in constructor or`set_params` instead.\n",
      "  warnings.warn(\n",
      "\n",
      "C:\\Users\\gowgi\\anaconda3\\lib\\site-packages\\xgboost\\sklearn.py:793: UserWarning: `early_stopping_rounds` in `fit` method is deprecated for better compatibility with scikit-learn, use `early_stopping_rounds` in constructor or`set_params` instead.\n",
      "  warnings.warn(\n",
      "\n"
     ]
    },
    {
     "name": "stdout",
     "output_type": "stream",
     "text": [
      "SCORE:                                                                                                                 \n",
      "0.6878189483026403                                                                                                     \n",
      " 43%|███████████████████▊                          | 43/100 [00:20<00:29,  1.93trial/s, best loss: -0.6878189483026403]"
     ]
    },
    {
     "name": "stderr",
     "output_type": "stream",
     "text": [
      "C:\\Users\\gowgi\\anaconda3\\lib\\site-packages\\xgboost\\sklearn.py:793: UserWarning: `eval_metric` in `fit` method is deprecated for better compatibility with scikit-learn, use `eval_metric` in constructor or`set_params` instead.\n",
      "  warnings.warn(\n",
      "\n",
      "C:\\Users\\gowgi\\anaconda3\\lib\\site-packages\\xgboost\\sklearn.py:793: UserWarning: `early_stopping_rounds` in `fit` method is deprecated for better compatibility with scikit-learn, use `early_stopping_rounds` in constructor or`set_params` instead.\n",
      "  warnings.warn(\n",
      "\n"
     ]
    },
    {
     "name": "stdout",
     "output_type": "stream",
     "text": [
      "SCORE:                                                                                                                 \n",
      "0.6878189483026403                                                                                                     \n",
      " 44%|████████████████████▏                         | 44/100 [00:21<00:27,  2.05trial/s, best loss: -0.6878189483026403]"
     ]
    },
    {
     "name": "stderr",
     "output_type": "stream",
     "text": [
      "C:\\Users\\gowgi\\anaconda3\\lib\\site-packages\\xgboost\\sklearn.py:793: UserWarning: `eval_metric` in `fit` method is deprecated for better compatibility with scikit-learn, use `eval_metric` in constructor or`set_params` instead.\n",
      "  warnings.warn(\n",
      "\n",
      "C:\\Users\\gowgi\\anaconda3\\lib\\site-packages\\xgboost\\sklearn.py:793: UserWarning: `early_stopping_rounds` in `fit` method is deprecated for better compatibility with scikit-learn, use `early_stopping_rounds` in constructor or`set_params` instead.\n",
      "  warnings.warn(\n",
      "\n"
     ]
    },
    {
     "name": "stdout",
     "output_type": "stream",
     "text": [
      "SCORE:                                                                                                                 \n",
      "0.6878189483026403                                                                                                     \n",
      " 45%|████████████████████▋                         | 45/100 [00:21<00:25,  2.16trial/s, best loss: -0.6878189483026403]"
     ]
    },
    {
     "name": "stderr",
     "output_type": "stream",
     "text": [
      "C:\\Users\\gowgi\\anaconda3\\lib\\site-packages\\xgboost\\sklearn.py:793: UserWarning: `eval_metric` in `fit` method is deprecated for better compatibility with scikit-learn, use `eval_metric` in constructor or`set_params` instead.\n",
      "  warnings.warn(\n",
      "\n",
      "C:\\Users\\gowgi\\anaconda3\\lib\\site-packages\\xgboost\\sklearn.py:793: UserWarning: `early_stopping_rounds` in `fit` method is deprecated for better compatibility with scikit-learn, use `early_stopping_rounds` in constructor or`set_params` instead.\n",
      "  warnings.warn(\n",
      "\n"
     ]
    },
    {
     "name": "stdout",
     "output_type": "stream",
     "text": [
      "SCORE:                                                                                                                 \n",
      "0.6878189483026403                                                                                                     \n",
      " 46%|█████████████████████▏                        | 46/100 [00:22<00:24,  2.23trial/s, best loss: -0.6878189483026403]"
     ]
    },
    {
     "name": "stderr",
     "output_type": "stream",
     "text": [
      "C:\\Users\\gowgi\\anaconda3\\lib\\site-packages\\xgboost\\sklearn.py:793: UserWarning: `eval_metric` in `fit` method is deprecated for better compatibility with scikit-learn, use `eval_metric` in constructor or`set_params` instead.\n",
      "  warnings.warn(\n",
      "\n",
      "C:\\Users\\gowgi\\anaconda3\\lib\\site-packages\\xgboost\\sklearn.py:793: UserWarning: `early_stopping_rounds` in `fit` method is deprecated for better compatibility with scikit-learn, use `early_stopping_rounds` in constructor or`set_params` instead.\n",
      "  warnings.warn(\n",
      "\n"
     ]
    },
    {
     "name": "stdout",
     "output_type": "stream",
     "text": [
      "SCORE:                                                                                                                 \n",
      "0.6878189483026403                                                                                                     \n",
      " 47%|█████████████████████▌                        | 47/100 [00:22<00:21,  2.42trial/s, best loss: -0.6878189483026403]"
     ]
    },
    {
     "name": "stderr",
     "output_type": "stream",
     "text": [
      "C:\\Users\\gowgi\\anaconda3\\lib\\site-packages\\xgboost\\sklearn.py:793: UserWarning: `eval_metric` in `fit` method is deprecated for better compatibility with scikit-learn, use `eval_metric` in constructor or`set_params` instead.\n",
      "  warnings.warn(\n",
      "\n",
      "C:\\Users\\gowgi\\anaconda3\\lib\\site-packages\\xgboost\\sklearn.py:793: UserWarning: `early_stopping_rounds` in `fit` method is deprecated for better compatibility with scikit-learn, use `early_stopping_rounds` in constructor or`set_params` instead.\n",
      "  warnings.warn(\n",
      "\n"
     ]
    },
    {
     "name": "stdout",
     "output_type": "stream",
     "text": [
      "SCORE:                                                                                                                 \n",
      "0.6878189483026403                                                                                                     \n",
      " 48%|██████████████████████                        | 48/100 [00:22<00:21,  2.40trial/s, best loss: -0.6878189483026403]"
     ]
    },
    {
     "name": "stderr",
     "output_type": "stream",
     "text": [
      "C:\\Users\\gowgi\\anaconda3\\lib\\site-packages\\xgboost\\sklearn.py:793: UserWarning: `eval_metric` in `fit` method is deprecated for better compatibility with scikit-learn, use `eval_metric` in constructor or`set_params` instead.\n",
      "  warnings.warn(\n",
      "\n",
      "C:\\Users\\gowgi\\anaconda3\\lib\\site-packages\\xgboost\\sklearn.py:793: UserWarning: `early_stopping_rounds` in `fit` method is deprecated for better compatibility with scikit-learn, use `early_stopping_rounds` in constructor or`set_params` instead.\n",
      "  warnings.warn(\n",
      "\n"
     ]
    },
    {
     "name": "stdout",
     "output_type": "stream",
     "text": [
      "SCORE:                                                                                                                 \n",
      "0.6878189483026403                                                                                                     \n",
      " 49%|██████████████████████▌                       | 49/100 [00:23<00:21,  2.40trial/s, best loss: -0.6878189483026403]"
     ]
    },
    {
     "name": "stderr",
     "output_type": "stream",
     "text": [
      "C:\\Users\\gowgi\\anaconda3\\lib\\site-packages\\xgboost\\sklearn.py:793: UserWarning: `eval_metric` in `fit` method is deprecated for better compatibility with scikit-learn, use `eval_metric` in constructor or`set_params` instead.\n",
      "  warnings.warn(\n",
      "\n",
      "C:\\Users\\gowgi\\anaconda3\\lib\\site-packages\\xgboost\\sklearn.py:793: UserWarning: `early_stopping_rounds` in `fit` method is deprecated for better compatibility with scikit-learn, use `early_stopping_rounds` in constructor or`set_params` instead.\n",
      "  warnings.warn(\n",
      "\n"
     ]
    },
    {
     "name": "stdout",
     "output_type": "stream",
     "text": [
      "SCORE:                                                                                                                 \n",
      "0.6878189483026403                                                                                                     \n",
      " 50%|███████████████████████                       | 50/100 [00:23<00:20,  2.38trial/s, best loss: -0.6878189483026403]"
     ]
    },
    {
     "name": "stderr",
     "output_type": "stream",
     "text": [
      "C:\\Users\\gowgi\\anaconda3\\lib\\site-packages\\xgboost\\sklearn.py:793: UserWarning: `eval_metric` in `fit` method is deprecated for better compatibility with scikit-learn, use `eval_metric` in constructor or`set_params` instead.\n",
      "  warnings.warn(\n",
      "\n",
      "C:\\Users\\gowgi\\anaconda3\\lib\\site-packages\\xgboost\\sklearn.py:793: UserWarning: `early_stopping_rounds` in `fit` method is deprecated for better compatibility with scikit-learn, use `early_stopping_rounds` in constructor or`set_params` instead.\n",
      "  warnings.warn(\n",
      "\n"
     ]
    },
    {
     "name": "stdout",
     "output_type": "stream",
     "text": [
      "SCORE:                                                                                                                 \n",
      "0.6878189483026403                                                                                                     \n",
      " 51%|███████████████████████▍                      | 51/100 [00:24<00:20,  2.35trial/s, best loss: -0.6878189483026403]"
     ]
    },
    {
     "name": "stderr",
     "output_type": "stream",
     "text": [
      "C:\\Users\\gowgi\\anaconda3\\lib\\site-packages\\xgboost\\sklearn.py:793: UserWarning: `eval_metric` in `fit` method is deprecated for better compatibility with scikit-learn, use `eval_metric` in constructor or`set_params` instead.\n",
      "  warnings.warn(\n",
      "\n",
      "C:\\Users\\gowgi\\anaconda3\\lib\\site-packages\\xgboost\\sklearn.py:793: UserWarning: `early_stopping_rounds` in `fit` method is deprecated for better compatibility with scikit-learn, use `early_stopping_rounds` in constructor or`set_params` instead.\n",
      "  warnings.warn(\n",
      "\n"
     ]
    },
    {
     "name": "stdout",
     "output_type": "stream",
     "text": [
      "SCORE:                                                                                                                 \n",
      "0.6878189483026403                                                                                                     \n",
      " 52%|███████████████████████▉                      | 52/100 [00:24<00:20,  2.31trial/s, best loss: -0.6878189483026403]"
     ]
    },
    {
     "name": "stderr",
     "output_type": "stream",
     "text": [
      "C:\\Users\\gowgi\\anaconda3\\lib\\site-packages\\xgboost\\sklearn.py:793: UserWarning: `eval_metric` in `fit` method is deprecated for better compatibility with scikit-learn, use `eval_metric` in constructor or`set_params` instead.\n",
      "  warnings.warn(\n",
      "\n",
      "C:\\Users\\gowgi\\anaconda3\\lib\\site-packages\\xgboost\\sklearn.py:793: UserWarning: `early_stopping_rounds` in `fit` method is deprecated for better compatibility with scikit-learn, use `early_stopping_rounds` in constructor or`set_params` instead.\n",
      "  warnings.warn(\n",
      "\n"
     ]
    },
    {
     "name": "stdout",
     "output_type": "stream",
     "text": [
      "SCORE:                                                                                                                 \n",
      "0.6878189483026403                                                                                                     \n",
      " 53%|████████████████████████▍                     | 53/100 [00:25<00:29,  1.62trial/s, best loss: -0.6878189483026403]"
     ]
    },
    {
     "name": "stderr",
     "output_type": "stream",
     "text": [
      "C:\\Users\\gowgi\\anaconda3\\lib\\site-packages\\xgboost\\sklearn.py:793: UserWarning: `eval_metric` in `fit` method is deprecated for better compatibility with scikit-learn, use `eval_metric` in constructor or`set_params` instead.\n",
      "  warnings.warn(\n",
      "\n",
      "C:\\Users\\gowgi\\anaconda3\\lib\\site-packages\\xgboost\\sklearn.py:793: UserWarning: `early_stopping_rounds` in `fit` method is deprecated for better compatibility with scikit-learn, use `early_stopping_rounds` in constructor or`set_params` instead.\n",
      "  warnings.warn(\n",
      "\n"
     ]
    },
    {
     "name": "stdout",
     "output_type": "stream",
     "text": [
      "SCORE:                                                                                                                 \n",
      "0.6878189483026403                                                                                                     \n",
      " 54%|████████████████████████▊                     | 54/100 [00:26<00:31,  1.45trial/s, best loss: -0.6878189483026403]"
     ]
    },
    {
     "name": "stderr",
     "output_type": "stream",
     "text": [
      "C:\\Users\\gowgi\\anaconda3\\lib\\site-packages\\xgboost\\sklearn.py:793: UserWarning: `eval_metric` in `fit` method is deprecated for better compatibility with scikit-learn, use `eval_metric` in constructor or`set_params` instead.\n",
      "  warnings.warn(\n",
      "\n",
      "C:\\Users\\gowgi\\anaconda3\\lib\\site-packages\\xgboost\\sklearn.py:793: UserWarning: `early_stopping_rounds` in `fit` method is deprecated for better compatibility with scikit-learn, use `early_stopping_rounds` in constructor or`set_params` instead.\n",
      "  warnings.warn(\n",
      "\n"
     ]
    },
    {
     "name": "stdout",
     "output_type": "stream",
     "text": [
      "SCORE:                                                                                                                 \n",
      "0.6878189483026403                                                                                                     \n",
      " 55%|█████████████████████████▎                    | 55/100 [00:26<00:27,  1.65trial/s, best loss: -0.6878189483026403]"
     ]
    },
    {
     "name": "stderr",
     "output_type": "stream",
     "text": [
      "C:\\Users\\gowgi\\anaconda3\\lib\\site-packages\\xgboost\\sklearn.py:793: UserWarning: `eval_metric` in `fit` method is deprecated for better compatibility with scikit-learn, use `eval_metric` in constructor or`set_params` instead.\n",
      "  warnings.warn(\n",
      "\n",
      "C:\\Users\\gowgi\\anaconda3\\lib\\site-packages\\xgboost\\sklearn.py:793: UserWarning: `early_stopping_rounds` in `fit` method is deprecated for better compatibility with scikit-learn, use `early_stopping_rounds` in constructor or`set_params` instead.\n",
      "  warnings.warn(\n",
      "\n"
     ]
    },
    {
     "name": "stdout",
     "output_type": "stream",
     "text": [
      "SCORE:                                                                                                                 \n",
      "0.6878189483026403                                                                                                     \n",
      " 56%|█████████████████████████▊                    | 56/100 [00:27<00:30,  1.44trial/s, best loss: -0.6878189483026403]"
     ]
    },
    {
     "name": "stderr",
     "output_type": "stream",
     "text": [
      "C:\\Users\\gowgi\\anaconda3\\lib\\site-packages\\xgboost\\sklearn.py:793: UserWarning: `eval_metric` in `fit` method is deprecated for better compatibility with scikit-learn, use `eval_metric` in constructor or`set_params` instead.\n",
      "  warnings.warn(\n",
      "\n",
      "C:\\Users\\gowgi\\anaconda3\\lib\\site-packages\\xgboost\\sklearn.py:793: UserWarning: `early_stopping_rounds` in `fit` method is deprecated for better compatibility with scikit-learn, use `early_stopping_rounds` in constructor or`set_params` instead.\n",
      "  warnings.warn(\n",
      "\n"
     ]
    },
    {
     "name": "stdout",
     "output_type": "stream",
     "text": [
      "SCORE:                                                                                                                 \n",
      "0.6878189483026403                                                                                                     \n",
      " 57%|██████████████████████████▏                   | 57/100 [00:28<00:26,  1.64trial/s, best loss: -0.6878189483026403]"
     ]
    },
    {
     "name": "stderr",
     "output_type": "stream",
     "text": [
      "C:\\Users\\gowgi\\anaconda3\\lib\\site-packages\\xgboost\\sklearn.py:793: UserWarning: `eval_metric` in `fit` method is deprecated for better compatibility with scikit-learn, use `eval_metric` in constructor or`set_params` instead.\n",
      "  warnings.warn(\n",
      "\n",
      "C:\\Users\\gowgi\\anaconda3\\lib\\site-packages\\xgboost\\sklearn.py:793: UserWarning: `early_stopping_rounds` in `fit` method is deprecated for better compatibility with scikit-learn, use `early_stopping_rounds` in constructor or`set_params` instead.\n",
      "  warnings.warn(\n",
      "\n"
     ]
    },
    {
     "name": "stdout",
     "output_type": "stream",
     "text": [
      "SCORE:                                                                                                                 \n",
      "0.6878189483026403                                                                                                     \n",
      " 58%|██████████████████████████▋                   | 58/100 [00:28<00:23,  1.82trial/s, best loss: -0.6878189483026403]"
     ]
    },
    {
     "name": "stderr",
     "output_type": "stream",
     "text": [
      "C:\\Users\\gowgi\\anaconda3\\lib\\site-packages\\xgboost\\sklearn.py:793: UserWarning: `eval_metric` in `fit` method is deprecated for better compatibility with scikit-learn, use `eval_metric` in constructor or`set_params` instead.\n",
      "  warnings.warn(\n",
      "\n",
      "C:\\Users\\gowgi\\anaconda3\\lib\\site-packages\\xgboost\\sklearn.py:793: UserWarning: `early_stopping_rounds` in `fit` method is deprecated for better compatibility with scikit-learn, use `early_stopping_rounds` in constructor or`set_params` instead.\n",
      "  warnings.warn(\n",
      "\n"
     ]
    },
    {
     "name": "stdout",
     "output_type": "stream",
     "text": [
      "SCORE:                                                                                                                 \n",
      "0.6878189483026403                                                                                                     \n",
      " 59%|███████████████████████████▏                  | 59/100 [00:28<00:20,  1.97trial/s, best loss: -0.6878189483026403]"
     ]
    },
    {
     "name": "stderr",
     "output_type": "stream",
     "text": [
      "C:\\Users\\gowgi\\anaconda3\\lib\\site-packages\\xgboost\\sklearn.py:793: UserWarning: `eval_metric` in `fit` method is deprecated for better compatibility with scikit-learn, use `eval_metric` in constructor or`set_params` instead.\n",
      "  warnings.warn(\n",
      "\n",
      "C:\\Users\\gowgi\\anaconda3\\lib\\site-packages\\xgboost\\sklearn.py:793: UserWarning: `early_stopping_rounds` in `fit` method is deprecated for better compatibility with scikit-learn, use `early_stopping_rounds` in constructor or`set_params` instead.\n",
      "  warnings.warn(\n",
      "\n"
     ]
    },
    {
     "name": "stdout",
     "output_type": "stream",
     "text": [
      "SCORE:                                                                                                                 \n",
      "0.6878189483026403                                                                                                     \n",
      " 60%|███████████████████████████▌                  | 60/100 [00:29<00:19,  2.10trial/s, best loss: -0.6878189483026403]"
     ]
    },
    {
     "name": "stderr",
     "output_type": "stream",
     "text": [
      "C:\\Users\\gowgi\\anaconda3\\lib\\site-packages\\xgboost\\sklearn.py:793: UserWarning: `eval_metric` in `fit` method is deprecated for better compatibility with scikit-learn, use `eval_metric` in constructor or`set_params` instead.\n",
      "  warnings.warn(\n",
      "\n",
      "C:\\Users\\gowgi\\anaconda3\\lib\\site-packages\\xgboost\\sklearn.py:793: UserWarning: `early_stopping_rounds` in `fit` method is deprecated for better compatibility with scikit-learn, use `early_stopping_rounds` in constructor or`set_params` instead.\n",
      "  warnings.warn(\n",
      "\n"
     ]
    },
    {
     "name": "stdout",
     "output_type": "stream",
     "text": [
      "SCORE:                                                                                                                 \n",
      "0.6878189483026403                                                                                                     \n",
      " 61%|████████████████████████████                  | 61/100 [00:29<00:17,  2.17trial/s, best loss: -0.6878189483026403]"
     ]
    },
    {
     "name": "stderr",
     "output_type": "stream",
     "text": [
      "C:\\Users\\gowgi\\anaconda3\\lib\\site-packages\\xgboost\\sklearn.py:793: UserWarning: `eval_metric` in `fit` method is deprecated for better compatibility with scikit-learn, use `eval_metric` in constructor or`set_params` instead.\n",
      "  warnings.warn(\n",
      "\n",
      "C:\\Users\\gowgi\\anaconda3\\lib\\site-packages\\xgboost\\sklearn.py:793: UserWarning: `early_stopping_rounds` in `fit` method is deprecated for better compatibility with scikit-learn, use `early_stopping_rounds` in constructor or`set_params` instead.\n",
      "  warnings.warn(\n",
      "\n"
     ]
    },
    {
     "name": "stdout",
     "output_type": "stream",
     "text": [
      "SCORE:                                                                                                                 \n",
      "0.6878189483026403                                                                                                     \n",
      " 62%|████████████████████████████▌                 | 62/100 [00:30<00:17,  2.20trial/s, best loss: -0.6878189483026403]"
     ]
    },
    {
     "name": "stderr",
     "output_type": "stream",
     "text": [
      "C:\\Users\\gowgi\\anaconda3\\lib\\site-packages\\xgboost\\sklearn.py:793: UserWarning: `eval_metric` in `fit` method is deprecated for better compatibility with scikit-learn, use `eval_metric` in constructor or`set_params` instead.\n",
      "  warnings.warn(\n",
      "\n",
      "C:\\Users\\gowgi\\anaconda3\\lib\\site-packages\\xgboost\\sklearn.py:793: UserWarning: `early_stopping_rounds` in `fit` method is deprecated for better compatibility with scikit-learn, use `early_stopping_rounds` in constructor or`set_params` instead.\n",
      "  warnings.warn(\n",
      "\n"
     ]
    },
    {
     "name": "stdout",
     "output_type": "stream",
     "text": [
      "SCORE:                                                                                                                 \n",
      "0.6878189483026403                                                                                                     \n",
      " 63%|████████████████████████████▉                 | 63/100 [00:30<00:15,  2.40trial/s, best loss: -0.6878189483026403]"
     ]
    },
    {
     "name": "stderr",
     "output_type": "stream",
     "text": [
      "C:\\Users\\gowgi\\anaconda3\\lib\\site-packages\\xgboost\\sklearn.py:793: UserWarning: `eval_metric` in `fit` method is deprecated for better compatibility with scikit-learn, use `eval_metric` in constructor or`set_params` instead.\n",
      "  warnings.warn(\n",
      "\n",
      "C:\\Users\\gowgi\\anaconda3\\lib\\site-packages\\xgboost\\sklearn.py:793: UserWarning: `early_stopping_rounds` in `fit` method is deprecated for better compatibility with scikit-learn, use `early_stopping_rounds` in constructor or`set_params` instead.\n",
      "  warnings.warn(\n",
      "\n"
     ]
    },
    {
     "name": "stdout",
     "output_type": "stream",
     "text": [
      "SCORE:                                                                                                                 \n",
      "0.6878189483026403                                                                                                     \n",
      " 64%|█████████████████████████████▍                | 64/100 [00:30<00:14,  2.46trial/s, best loss: -0.6878189483026403]"
     ]
    },
    {
     "name": "stderr",
     "output_type": "stream",
     "text": [
      "C:\\Users\\gowgi\\anaconda3\\lib\\site-packages\\xgboost\\sklearn.py:793: UserWarning: `eval_metric` in `fit` method is deprecated for better compatibility with scikit-learn, use `eval_metric` in constructor or`set_params` instead.\n",
      "  warnings.warn(\n",
      "\n",
      "C:\\Users\\gowgi\\anaconda3\\lib\\site-packages\\xgboost\\sklearn.py:793: UserWarning: `early_stopping_rounds` in `fit` method is deprecated for better compatibility with scikit-learn, use `early_stopping_rounds` in constructor or`set_params` instead.\n",
      "  warnings.warn(\n",
      "\n"
     ]
    },
    {
     "name": "stdout",
     "output_type": "stream",
     "text": [
      "SCORE:                                                                                                                 \n",
      "0.6878189483026403                                                                                                     \n",
      " 65%|█████████████████████████████▉                | 65/100 [00:31<00:19,  1.82trial/s, best loss: -0.6878189483026403]"
     ]
    },
    {
     "name": "stderr",
     "output_type": "stream",
     "text": [
      "C:\\Users\\gowgi\\anaconda3\\lib\\site-packages\\xgboost\\sklearn.py:793: UserWarning: `eval_metric` in `fit` method is deprecated for better compatibility with scikit-learn, use `eval_metric` in constructor or`set_params` instead.\n",
      "  warnings.warn(\n",
      "\n",
      "C:\\Users\\gowgi\\anaconda3\\lib\\site-packages\\xgboost\\sklearn.py:793: UserWarning: `early_stopping_rounds` in `fit` method is deprecated for better compatibility with scikit-learn, use `early_stopping_rounds` in constructor or`set_params` instead.\n",
      "  warnings.warn(\n",
      "\n"
     ]
    },
    {
     "name": "stdout",
     "output_type": "stream",
     "text": [
      "SCORE:                                                                                                                 \n",
      "0.6878189483026403                                                                                                     \n",
      " 66%|██████████████████████████████▎               | 66/100 [00:32<00:16,  2.05trial/s, best loss: -0.6878189483026403]"
     ]
    },
    {
     "name": "stderr",
     "output_type": "stream",
     "text": [
      "C:\\Users\\gowgi\\anaconda3\\lib\\site-packages\\xgboost\\sklearn.py:793: UserWarning: `eval_metric` in `fit` method is deprecated for better compatibility with scikit-learn, use `eval_metric` in constructor or`set_params` instead.\n",
      "  warnings.warn(\n",
      "\n",
      "C:\\Users\\gowgi\\anaconda3\\lib\\site-packages\\xgboost\\sklearn.py:793: UserWarning: `early_stopping_rounds` in `fit` method is deprecated for better compatibility with scikit-learn, use `early_stopping_rounds` in constructor or`set_params` instead.\n",
      "  warnings.warn(\n",
      "\n"
     ]
    },
    {
     "name": "stdout",
     "output_type": "stream",
     "text": [
      "SCORE:                                                                                                                 \n",
      "0.6878189483026403                                                                                                     \n",
      " 67%|██████████████████████████████▊               | 67/100 [00:32<00:14,  2.26trial/s, best loss: -0.6878189483026403]"
     ]
    },
    {
     "name": "stderr",
     "output_type": "stream",
     "text": [
      "C:\\Users\\gowgi\\anaconda3\\lib\\site-packages\\xgboost\\sklearn.py:793: UserWarning: `eval_metric` in `fit` method is deprecated for better compatibility with scikit-learn, use `eval_metric` in constructor or`set_params` instead.\n",
      "  warnings.warn(\n",
      "\n",
      "C:\\Users\\gowgi\\anaconda3\\lib\\site-packages\\xgboost\\sklearn.py:793: UserWarning: `early_stopping_rounds` in `fit` method is deprecated for better compatibility with scikit-learn, use `early_stopping_rounds` in constructor or`set_params` instead.\n",
      "  warnings.warn(\n",
      "\n"
     ]
    },
    {
     "name": "stdout",
     "output_type": "stream",
     "text": [
      "SCORE:                                                                                                                 \n",
      "0.6878189483026403                                                                                                     \n",
      " 68%|███████████████████████████████▎              | 68/100 [00:32<00:13,  2.42trial/s, best loss: -0.6878189483026403]"
     ]
    },
    {
     "name": "stderr",
     "output_type": "stream",
     "text": [
      "C:\\Users\\gowgi\\anaconda3\\lib\\site-packages\\xgboost\\sklearn.py:793: UserWarning: `eval_metric` in `fit` method is deprecated for better compatibility with scikit-learn, use `eval_metric` in constructor or`set_params` instead.\n",
      "  warnings.warn(\n",
      "\n",
      "C:\\Users\\gowgi\\anaconda3\\lib\\site-packages\\xgboost\\sklearn.py:793: UserWarning: `early_stopping_rounds` in `fit` method is deprecated for better compatibility with scikit-learn, use `early_stopping_rounds` in constructor or`set_params` instead.\n",
      "  warnings.warn(\n",
      "\n"
     ]
    },
    {
     "name": "stdout",
     "output_type": "stream",
     "text": [
      "SCORE:                                                                                                                 \n",
      "0.6878189483026403                                                                                                     \n",
      " 69%|███████████████████████████████▋              | 69/100 [00:33<00:12,  2.41trial/s, best loss: -0.6878189483026403]"
     ]
    },
    {
     "name": "stderr",
     "output_type": "stream",
     "text": [
      "C:\\Users\\gowgi\\anaconda3\\lib\\site-packages\\xgboost\\sklearn.py:793: UserWarning: `eval_metric` in `fit` method is deprecated for better compatibility with scikit-learn, use `eval_metric` in constructor or`set_params` instead.\n",
      "  warnings.warn(\n",
      "\n",
      "C:\\Users\\gowgi\\anaconda3\\lib\\site-packages\\xgboost\\sklearn.py:793: UserWarning: `early_stopping_rounds` in `fit` method is deprecated for better compatibility with scikit-learn, use `early_stopping_rounds` in constructor or`set_params` instead.\n",
      "  warnings.warn(\n",
      "\n"
     ]
    },
    {
     "name": "stdout",
     "output_type": "stream",
     "text": [
      "SCORE:                                                                                                                 \n",
      "0.6878189483026403                                                                                                     \n",
      " 70%|████████████████████████████████▏             | 70/100 [00:33<00:12,  2.41trial/s, best loss: -0.6878189483026403]"
     ]
    },
    {
     "name": "stderr",
     "output_type": "stream",
     "text": [
      "C:\\Users\\gowgi\\anaconda3\\lib\\site-packages\\xgboost\\sklearn.py:793: UserWarning: `eval_metric` in `fit` method is deprecated for better compatibility with scikit-learn, use `eval_metric` in constructor or`set_params` instead.\n",
      "  warnings.warn(\n",
      "\n",
      "C:\\Users\\gowgi\\anaconda3\\lib\\site-packages\\xgboost\\sklearn.py:793: UserWarning: `early_stopping_rounds` in `fit` method is deprecated for better compatibility with scikit-learn, use `early_stopping_rounds` in constructor or`set_params` instead.\n",
      "  warnings.warn(\n",
      "\n"
     ]
    },
    {
     "name": "stdout",
     "output_type": "stream",
     "text": [
      "SCORE:                                                                                                                 \n",
      "0.6878189483026403                                                                                                     \n",
      " 71%|████████████████████████████████▋             | 71/100 [00:34<00:11,  2.43trial/s, best loss: -0.6878189483026403]"
     ]
    },
    {
     "name": "stderr",
     "output_type": "stream",
     "text": [
      "C:\\Users\\gowgi\\anaconda3\\lib\\site-packages\\xgboost\\sklearn.py:793: UserWarning: `eval_metric` in `fit` method is deprecated for better compatibility with scikit-learn, use `eval_metric` in constructor or`set_params` instead.\n",
      "  warnings.warn(\n",
      "\n",
      "C:\\Users\\gowgi\\anaconda3\\lib\\site-packages\\xgboost\\sklearn.py:793: UserWarning: `early_stopping_rounds` in `fit` method is deprecated for better compatibility with scikit-learn, use `early_stopping_rounds` in constructor or`set_params` instead.\n",
      "  warnings.warn(\n",
      "\n"
     ]
    },
    {
     "name": "stdout",
     "output_type": "stream",
     "text": [
      "SCORE:                                                                                                                 \n",
      "0.6878189483026403                                                                                                     \n",
      " 72%|█████████████████████████████████             | 72/100 [00:34<00:11,  2.40trial/s, best loss: -0.6878189483026403]"
     ]
    },
    {
     "name": "stderr",
     "output_type": "stream",
     "text": [
      "C:\\Users\\gowgi\\anaconda3\\lib\\site-packages\\xgboost\\sklearn.py:793: UserWarning: `eval_metric` in `fit` method is deprecated for better compatibility with scikit-learn, use `eval_metric` in constructor or`set_params` instead.\n",
      "  warnings.warn(\n",
      "\n",
      "C:\\Users\\gowgi\\anaconda3\\lib\\site-packages\\xgboost\\sklearn.py:793: UserWarning: `early_stopping_rounds` in `fit` method is deprecated for better compatibility with scikit-learn, use `early_stopping_rounds` in constructor or`set_params` instead.\n",
      "  warnings.warn(\n",
      "\n"
     ]
    },
    {
     "name": "stdout",
     "output_type": "stream",
     "text": [
      "SCORE:                                                                                                                 \n",
      "0.6878189483026403                                                                                                     \n",
      " 73%|█████████████████████████████████▌            | 73/100 [00:34<00:11,  2.42trial/s, best loss: -0.6878189483026403]"
     ]
    },
    {
     "name": "stderr",
     "output_type": "stream",
     "text": [
      "C:\\Users\\gowgi\\anaconda3\\lib\\site-packages\\xgboost\\sklearn.py:793: UserWarning: `eval_metric` in `fit` method is deprecated for better compatibility with scikit-learn, use `eval_metric` in constructor or`set_params` instead.\n",
      "  warnings.warn(\n",
      "\n",
      "C:\\Users\\gowgi\\anaconda3\\lib\\site-packages\\xgboost\\sklearn.py:793: UserWarning: `early_stopping_rounds` in `fit` method is deprecated for better compatibility with scikit-learn, use `early_stopping_rounds` in constructor or`set_params` instead.\n",
      "  warnings.warn(\n",
      "\n"
     ]
    },
    {
     "name": "stdout",
     "output_type": "stream",
     "text": [
      "SCORE:                                                                                                                 \n",
      "0.6878189483026403                                                                                                     \n",
      " 74%|██████████████████████████████████            | 74/100 [00:35<00:10,  2.44trial/s, best loss: -0.6878189483026403]"
     ]
    },
    {
     "name": "stderr",
     "output_type": "stream",
     "text": [
      "C:\\Users\\gowgi\\anaconda3\\lib\\site-packages\\xgboost\\sklearn.py:793: UserWarning: `eval_metric` in `fit` method is deprecated for better compatibility with scikit-learn, use `eval_metric` in constructor or`set_params` instead.\n",
      "  warnings.warn(\n",
      "\n",
      "C:\\Users\\gowgi\\anaconda3\\lib\\site-packages\\xgboost\\sklearn.py:793: UserWarning: `early_stopping_rounds` in `fit` method is deprecated for better compatibility with scikit-learn, use `early_stopping_rounds` in constructor or`set_params` instead.\n",
      "  warnings.warn(\n",
      "\n"
     ]
    },
    {
     "name": "stdout",
     "output_type": "stream",
     "text": [
      "SCORE:                                                                                                                 \n",
      "0.6878189483026403                                                                                                     \n",
      " 75%|██████████████████████████████████▌           | 75/100 [00:35<00:10,  2.40trial/s, best loss: -0.6878189483026403]"
     ]
    },
    {
     "name": "stderr",
     "output_type": "stream",
     "text": [
      "C:\\Users\\gowgi\\anaconda3\\lib\\site-packages\\xgboost\\sklearn.py:793: UserWarning: `eval_metric` in `fit` method is deprecated for better compatibility with scikit-learn, use `eval_metric` in constructor or`set_params` instead.\n",
      "  warnings.warn(\n",
      "\n",
      "C:\\Users\\gowgi\\anaconda3\\lib\\site-packages\\xgboost\\sklearn.py:793: UserWarning: `early_stopping_rounds` in `fit` method is deprecated for better compatibility with scikit-learn, use `early_stopping_rounds` in constructor or`set_params` instead.\n",
      "  warnings.warn(\n",
      "\n"
     ]
    },
    {
     "name": "stdout",
     "output_type": "stream",
     "text": [
      "SCORE:                                                                                                                 \n",
      "0.6878189483026403                                                                                                     \n",
      " 76%|██████████████████████████████████▉           | 76/100 [00:36<00:13,  1.81trial/s, best loss: -0.6878189483026403]"
     ]
    },
    {
     "name": "stderr",
     "output_type": "stream",
     "text": [
      "C:\\Users\\gowgi\\anaconda3\\lib\\site-packages\\xgboost\\sklearn.py:793: UserWarning: `eval_metric` in `fit` method is deprecated for better compatibility with scikit-learn, use `eval_metric` in constructor or`set_params` instead.\n",
      "  warnings.warn(\n",
      "\n",
      "C:\\Users\\gowgi\\anaconda3\\lib\\site-packages\\xgboost\\sklearn.py:793: UserWarning: `early_stopping_rounds` in `fit` method is deprecated for better compatibility with scikit-learn, use `early_stopping_rounds` in constructor or`set_params` instead.\n",
      "  warnings.warn(\n",
      "\n"
     ]
    },
    {
     "name": "stdout",
     "output_type": "stream",
     "text": [
      "SCORE:                                                                                                                 \n",
      "0.6878189483026403                                                                                                     \n",
      " 77%|███████████████████████████████████▍          | 77/100 [00:37<00:14,  1.54trial/s, best loss: -0.6878189483026403]"
     ]
    },
    {
     "name": "stderr",
     "output_type": "stream",
     "text": [
      "C:\\Users\\gowgi\\anaconda3\\lib\\site-packages\\xgboost\\sklearn.py:793: UserWarning: `eval_metric` in `fit` method is deprecated for better compatibility with scikit-learn, use `eval_metric` in constructor or`set_params` instead.\n",
      "  warnings.warn(\n",
      "\n",
      "C:\\Users\\gowgi\\anaconda3\\lib\\site-packages\\xgboost\\sklearn.py:793: UserWarning: `early_stopping_rounds` in `fit` method is deprecated for better compatibility with scikit-learn, use `early_stopping_rounds` in constructor or`set_params` instead.\n",
      "  warnings.warn(\n",
      "\n"
     ]
    },
    {
     "name": "stdout",
     "output_type": "stream",
     "text": [
      "SCORE:                                                                                                                 \n",
      "0.6878189483026403                                                                                                     \n",
      " 78%|███████████████████████████████████▉          | 78/100 [00:38<00:16,  1.33trial/s, best loss: -0.6878189483026403]"
     ]
    },
    {
     "name": "stderr",
     "output_type": "stream",
     "text": [
      "C:\\Users\\gowgi\\anaconda3\\lib\\site-packages\\xgboost\\sklearn.py:793: UserWarning: `eval_metric` in `fit` method is deprecated for better compatibility with scikit-learn, use `eval_metric` in constructor or`set_params` instead.\n",
      "  warnings.warn(\n",
      "\n",
      "C:\\Users\\gowgi\\anaconda3\\lib\\site-packages\\xgboost\\sklearn.py:793: UserWarning: `early_stopping_rounds` in `fit` method is deprecated for better compatibility with scikit-learn, use `early_stopping_rounds` in constructor or`set_params` instead.\n",
      "  warnings.warn(\n",
      "\n"
     ]
    },
    {
     "name": "stdout",
     "output_type": "stream",
     "text": [
      "SCORE:                                                                                                                 \n",
      "0.6875970712225428                                                                                                     \n",
      " 79%|████████████████████████████████████▎         | 79/100 [00:39<00:18,  1.15trial/s, best loss: -0.6878189483026403]"
     ]
    },
    {
     "name": "stderr",
     "output_type": "stream",
     "text": [
      "C:\\Users\\gowgi\\anaconda3\\lib\\site-packages\\xgboost\\sklearn.py:793: UserWarning: `eval_metric` in `fit` method is deprecated for better compatibility with scikit-learn, use `eval_metric` in constructor or`set_params` instead.\n",
      "  warnings.warn(\n",
      "\n",
      "C:\\Users\\gowgi\\anaconda3\\lib\\site-packages\\xgboost\\sklearn.py:793: UserWarning: `early_stopping_rounds` in `fit` method is deprecated for better compatibility with scikit-learn, use `early_stopping_rounds` in constructor or`set_params` instead.\n",
      "  warnings.warn(\n",
      "\n"
     ]
    },
    {
     "name": "stdout",
     "output_type": "stream",
     "text": [
      "SCORE:                                                                                                                 \n",
      "0.6878189483026403                                                                                                     \n",
      " 80%|████████████████████████████████████▊         | 80/100 [00:40<00:15,  1.33trial/s, best loss: -0.6878189483026403]"
     ]
    },
    {
     "name": "stderr",
     "output_type": "stream",
     "text": [
      "C:\\Users\\gowgi\\anaconda3\\lib\\site-packages\\xgboost\\sklearn.py:793: UserWarning: `eval_metric` in `fit` method is deprecated for better compatibility with scikit-learn, use `eval_metric` in constructor or`set_params` instead.\n",
      "  warnings.warn(\n",
      "\n",
      "C:\\Users\\gowgi\\anaconda3\\lib\\site-packages\\xgboost\\sklearn.py:793: UserWarning: `early_stopping_rounds` in `fit` method is deprecated for better compatibility with scikit-learn, use `early_stopping_rounds` in constructor or`set_params` instead.\n",
      "  warnings.warn(\n",
      "\n"
     ]
    },
    {
     "name": "stdout",
     "output_type": "stream",
     "text": [
      "SCORE:                                                                                                                 \n",
      "0.6878189483026403                                                                                                     \n",
      " 81%|█████████████████████████████████████▎        | 81/100 [00:40<00:12,  1.52trial/s, best loss: -0.6878189483026403]"
     ]
    },
    {
     "name": "stderr",
     "output_type": "stream",
     "text": [
      "C:\\Users\\gowgi\\anaconda3\\lib\\site-packages\\xgboost\\sklearn.py:793: UserWarning: `eval_metric` in `fit` method is deprecated for better compatibility with scikit-learn, use `eval_metric` in constructor or`set_params` instead.\n",
      "  warnings.warn(\n",
      "\n",
      "C:\\Users\\gowgi\\anaconda3\\lib\\site-packages\\xgboost\\sklearn.py:793: UserWarning: `early_stopping_rounds` in `fit` method is deprecated for better compatibility with scikit-learn, use `early_stopping_rounds` in constructor or`set_params` instead.\n",
      "  warnings.warn(\n",
      "\n"
     ]
    },
    {
     "name": "stdout",
     "output_type": "stream",
     "text": [
      "SCORE:                                                                                                                 \n",
      "0.6878189483026403                                                                                                     \n",
      " 82%|█████████████████████████████████████▋        | 82/100 [00:40<00:10,  1.69trial/s, best loss: -0.6878189483026403]"
     ]
    },
    {
     "name": "stderr",
     "output_type": "stream",
     "text": [
      "C:\\Users\\gowgi\\anaconda3\\lib\\site-packages\\xgboost\\sklearn.py:793: UserWarning: `eval_metric` in `fit` method is deprecated for better compatibility with scikit-learn, use `eval_metric` in constructor or`set_params` instead.\n",
      "  warnings.warn(\n",
      "\n",
      "C:\\Users\\gowgi\\anaconda3\\lib\\site-packages\\xgboost\\sklearn.py:793: UserWarning: `early_stopping_rounds` in `fit` method is deprecated for better compatibility with scikit-learn, use `early_stopping_rounds` in constructor or`set_params` instead.\n",
      "  warnings.warn(\n",
      "\n"
     ]
    },
    {
     "name": "stdout",
     "output_type": "stream",
     "text": [
      "SCORE:                                                                                                                 \n",
      "0.6878189483026403                                                                                                     \n",
      " 83%|██████████████████████████████████████▏       | 83/100 [00:41<00:09,  1.85trial/s, best loss: -0.6878189483026403]"
     ]
    },
    {
     "name": "stderr",
     "output_type": "stream",
     "text": [
      "C:\\Users\\gowgi\\anaconda3\\lib\\site-packages\\xgboost\\sklearn.py:793: UserWarning: `eval_metric` in `fit` method is deprecated for better compatibility with scikit-learn, use `eval_metric` in constructor or`set_params` instead.\n",
      "  warnings.warn(\n",
      "\n",
      "C:\\Users\\gowgi\\anaconda3\\lib\\site-packages\\xgboost\\sklearn.py:793: UserWarning: `early_stopping_rounds` in `fit` method is deprecated for better compatibility with scikit-learn, use `early_stopping_rounds` in constructor or`set_params` instead.\n",
      "  warnings.warn(\n",
      "\n"
     ]
    },
    {
     "name": "stdout",
     "output_type": "stream",
     "text": [
      "SCORE:                                                                                                                 \n",
      "0.6878189483026403                                                                                                     \n",
      " 84%|██████████████████████████████████████▋       | 84/100 [00:42<00:10,  1.53trial/s, best loss: -0.6878189483026403]"
     ]
    },
    {
     "name": "stderr",
     "output_type": "stream",
     "text": [
      "C:\\Users\\gowgi\\anaconda3\\lib\\site-packages\\xgboost\\sklearn.py:793: UserWarning: `eval_metric` in `fit` method is deprecated for better compatibility with scikit-learn, use `eval_metric` in constructor or`set_params` instead.\n",
      "  warnings.warn(\n",
      "\n",
      "C:\\Users\\gowgi\\anaconda3\\lib\\site-packages\\xgboost\\sklearn.py:793: UserWarning: `early_stopping_rounds` in `fit` method is deprecated for better compatibility with scikit-learn, use `early_stopping_rounds` in constructor or`set_params` instead.\n",
      "  warnings.warn(\n",
      "\n"
     ]
    },
    {
     "name": "stdout",
     "output_type": "stream",
     "text": [
      "SCORE:                                                                                                                 \n",
      "0.6878189483026403                                                                                                     \n",
      " 85%|███████████████████████████████████████       | 85/100 [00:42<00:08,  1.68trial/s, best loss: -0.6878189483026403]"
     ]
    },
    {
     "name": "stderr",
     "output_type": "stream",
     "text": [
      "C:\\Users\\gowgi\\anaconda3\\lib\\site-packages\\xgboost\\sklearn.py:793: UserWarning: `eval_metric` in `fit` method is deprecated for better compatibility with scikit-learn, use `eval_metric` in constructor or`set_params` instead.\n",
      "  warnings.warn(\n",
      "\n",
      "C:\\Users\\gowgi\\anaconda3\\lib\\site-packages\\xgboost\\sklearn.py:793: UserWarning: `early_stopping_rounds` in `fit` method is deprecated for better compatibility with scikit-learn, use `early_stopping_rounds` in constructor or`set_params` instead.\n",
      "  warnings.warn(\n",
      "\n"
     ]
    },
    {
     "name": "stdout",
     "output_type": "stream",
     "text": [
      "SCORE:                                                                                                                 \n",
      "0.6878189483026403                                                                                                     \n",
      " 86%|███████████████████████████████████████▌      | 86/100 [00:43<00:07,  1.83trial/s, best loss: -0.6878189483026403]"
     ]
    },
    {
     "name": "stderr",
     "output_type": "stream",
     "text": [
      "C:\\Users\\gowgi\\anaconda3\\lib\\site-packages\\xgboost\\sklearn.py:793: UserWarning: `eval_metric` in `fit` method is deprecated for better compatibility with scikit-learn, use `eval_metric` in constructor or`set_params` instead.\n",
      "  warnings.warn(\n",
      "\n",
      "C:\\Users\\gowgi\\anaconda3\\lib\\site-packages\\xgboost\\sklearn.py:793: UserWarning: `early_stopping_rounds` in `fit` method is deprecated for better compatibility with scikit-learn, use `early_stopping_rounds` in constructor or`set_params` instead.\n",
      "  warnings.warn(\n",
      "\n"
     ]
    },
    {
     "name": "stdout",
     "output_type": "stream",
     "text": [
      "SCORE:                                                                                                                 \n",
      "0.6878189483026403                                                                                                     \n",
      " 87%|████████████████████████████████████████      | 87/100 [00:44<00:08,  1.52trial/s, best loss: -0.6878189483026403]"
     ]
    },
    {
     "name": "stderr",
     "output_type": "stream",
     "text": [
      "C:\\Users\\gowgi\\anaconda3\\lib\\site-packages\\xgboost\\sklearn.py:793: UserWarning: `eval_metric` in `fit` method is deprecated for better compatibility with scikit-learn, use `eval_metric` in constructor or`set_params` instead.\n",
      "  warnings.warn(\n",
      "\n",
      "C:\\Users\\gowgi\\anaconda3\\lib\\site-packages\\xgboost\\sklearn.py:793: UserWarning: `early_stopping_rounds` in `fit` method is deprecated for better compatibility with scikit-learn, use `early_stopping_rounds` in constructor or`set_params` instead.\n",
      "  warnings.warn(\n",
      "\n"
     ]
    },
    {
     "name": "stdout",
     "output_type": "stream",
     "text": [
      "SCORE:                                                                                                                 \n",
      "0.6878189483026403                                                                                                     \n",
      " 88%|████████████████████████████████████████▍     | 88/100 [00:44<00:07,  1.71trial/s, best loss: -0.6878189483026403]"
     ]
    },
    {
     "name": "stderr",
     "output_type": "stream",
     "text": [
      "C:\\Users\\gowgi\\anaconda3\\lib\\site-packages\\xgboost\\sklearn.py:793: UserWarning: `eval_metric` in `fit` method is deprecated for better compatibility with scikit-learn, use `eval_metric` in constructor or`set_params` instead.\n",
      "  warnings.warn(\n",
      "\n",
      "C:\\Users\\gowgi\\anaconda3\\lib\\site-packages\\xgboost\\sklearn.py:793: UserWarning: `early_stopping_rounds` in `fit` method is deprecated for better compatibility with scikit-learn, use `early_stopping_rounds` in constructor or`set_params` instead.\n",
      "  warnings.warn(\n",
      "\n"
     ]
    },
    {
     "name": "stdout",
     "output_type": "stream",
     "text": [
      "SCORE:                                                                                                                 \n",
      "0.6878189483026403                                                                                                     \n",
      " 89%|████████████████████████████████████████▉     | 89/100 [00:44<00:05,  1.86trial/s, best loss: -0.6878189483026403]"
     ]
    },
    {
     "name": "stderr",
     "output_type": "stream",
     "text": [
      "C:\\Users\\gowgi\\anaconda3\\lib\\site-packages\\xgboost\\sklearn.py:793: UserWarning: `eval_metric` in `fit` method is deprecated for better compatibility with scikit-learn, use `eval_metric` in constructor or`set_params` instead.\n",
      "  warnings.warn(\n",
      "\n",
      "C:\\Users\\gowgi\\anaconda3\\lib\\site-packages\\xgboost\\sklearn.py:793: UserWarning: `early_stopping_rounds` in `fit` method is deprecated for better compatibility with scikit-learn, use `early_stopping_rounds` in constructor or`set_params` instead.\n",
      "  warnings.warn(\n",
      "\n"
     ]
    },
    {
     "name": "stdout",
     "output_type": "stream",
     "text": [
      "SCORE:                                                                                                                 \n",
      "0.6878189483026403                                                                                                     \n",
      " 90%|█████████████████████████████████████████▍    | 90/100 [00:45<00:05,  1.96trial/s, best loss: -0.6878189483026403]"
     ]
    },
    {
     "name": "stderr",
     "output_type": "stream",
     "text": [
      "C:\\Users\\gowgi\\anaconda3\\lib\\site-packages\\xgboost\\sklearn.py:793: UserWarning: `eval_metric` in `fit` method is deprecated for better compatibility with scikit-learn, use `eval_metric` in constructor or`set_params` instead.\n",
      "  warnings.warn(\n",
      "\n",
      "C:\\Users\\gowgi\\anaconda3\\lib\\site-packages\\xgboost\\sklearn.py:793: UserWarning: `early_stopping_rounds` in `fit` method is deprecated for better compatibility with scikit-learn, use `early_stopping_rounds` in constructor or`set_params` instead.\n",
      "  warnings.warn(\n",
      "\n"
     ]
    },
    {
     "name": "stdout",
     "output_type": "stream",
     "text": [
      "SCORE:                                                                                                                 \n",
      "0.6878189483026403                                                                                                     \n",
      " 91%|█████████████████████████████████████████▊    | 91/100 [00:46<00:04,  1.82trial/s, best loss: -0.6878189483026403]"
     ]
    },
    {
     "name": "stderr",
     "output_type": "stream",
     "text": [
      "C:\\Users\\gowgi\\anaconda3\\lib\\site-packages\\xgboost\\sklearn.py:793: UserWarning: `eval_metric` in `fit` method is deprecated for better compatibility with scikit-learn, use `eval_metric` in constructor or`set_params` instead.\n",
      "  warnings.warn(\n",
      "\n",
      "C:\\Users\\gowgi\\anaconda3\\lib\\site-packages\\xgboost\\sklearn.py:793: UserWarning: `early_stopping_rounds` in `fit` method is deprecated for better compatibility with scikit-learn, use `early_stopping_rounds` in constructor or`set_params` instead.\n",
      "  warnings.warn(\n",
      "\n"
     ]
    },
    {
     "name": "stdout",
     "output_type": "stream",
     "text": [
      "SCORE:                                                                                                                 \n",
      "0.6878189483026403                                                                                                     \n",
      " 92%|██████████████████████████████████████████▎   | 92/100 [00:46<00:04,  1.85trial/s, best loss: -0.6878189483026403]"
     ]
    },
    {
     "name": "stderr",
     "output_type": "stream",
     "text": [
      "C:\\Users\\gowgi\\anaconda3\\lib\\site-packages\\xgboost\\sklearn.py:793: UserWarning: `eval_metric` in `fit` method is deprecated for better compatibility with scikit-learn, use `eval_metric` in constructor or`set_params` instead.\n",
      "  warnings.warn(\n",
      "\n",
      "C:\\Users\\gowgi\\anaconda3\\lib\\site-packages\\xgboost\\sklearn.py:793: UserWarning: `early_stopping_rounds` in `fit` method is deprecated for better compatibility with scikit-learn, use `early_stopping_rounds` in constructor or`set_params` instead.\n",
      "  warnings.warn(\n",
      "\n"
     ]
    },
    {
     "name": "stdout",
     "output_type": "stream",
     "text": [
      "SCORE:                                                                                                                 \n",
      "0.6878189483026403                                                                                                     \n",
      " 93%|██████████████████████████████████████████▊   | 93/100 [00:47<00:03,  1.93trial/s, best loss: -0.6878189483026403]"
     ]
    },
    {
     "name": "stderr",
     "output_type": "stream",
     "text": [
      "C:\\Users\\gowgi\\anaconda3\\lib\\site-packages\\xgboost\\sklearn.py:793: UserWarning: `eval_metric` in `fit` method is deprecated for better compatibility with scikit-learn, use `eval_metric` in constructor or`set_params` instead.\n",
      "  warnings.warn(\n",
      "\n",
      "C:\\Users\\gowgi\\anaconda3\\lib\\site-packages\\xgboost\\sklearn.py:793: UserWarning: `early_stopping_rounds` in `fit` method is deprecated for better compatibility with scikit-learn, use `early_stopping_rounds` in constructor or`set_params` instead.\n",
      "  warnings.warn(\n",
      "\n"
     ]
    },
    {
     "name": "stdout",
     "output_type": "stream",
     "text": [
      "SCORE:                                                                                                                 \n",
      "0.6878189483026403                                                                                                     \n",
      " 94%|███████████████████████████████████████████▏  | 94/100 [00:47<00:02,  2.11trial/s, best loss: -0.6878189483026403]"
     ]
    },
    {
     "name": "stderr",
     "output_type": "stream",
     "text": [
      "C:\\Users\\gowgi\\anaconda3\\lib\\site-packages\\xgboost\\sklearn.py:793: UserWarning: `eval_metric` in `fit` method is deprecated for better compatibility with scikit-learn, use `eval_metric` in constructor or`set_params` instead.\n",
      "  warnings.warn(\n",
      "\n",
      "C:\\Users\\gowgi\\anaconda3\\lib\\site-packages\\xgboost\\sklearn.py:793: UserWarning: `early_stopping_rounds` in `fit` method is deprecated for better compatibility with scikit-learn, use `early_stopping_rounds` in constructor or`set_params` instead.\n",
      "  warnings.warn(\n",
      "\n"
     ]
    },
    {
     "name": "stdout",
     "output_type": "stream",
     "text": [
      "SCORE:                                                                                                                 \n",
      "0.6878189483026403                                                                                                     \n",
      " 95%|███████████████████████████████████████████▋  | 95/100 [00:47<00:02,  2.27trial/s, best loss: -0.6878189483026403]"
     ]
    },
    {
     "name": "stderr",
     "output_type": "stream",
     "text": [
      "C:\\Users\\gowgi\\anaconda3\\lib\\site-packages\\xgboost\\sklearn.py:793: UserWarning: `eval_metric` in `fit` method is deprecated for better compatibility with scikit-learn, use `eval_metric` in constructor or`set_params` instead.\n",
      "  warnings.warn(\n",
      "\n",
      "C:\\Users\\gowgi\\anaconda3\\lib\\site-packages\\xgboost\\sklearn.py:793: UserWarning: `early_stopping_rounds` in `fit` method is deprecated for better compatibility with scikit-learn, use `early_stopping_rounds` in constructor or`set_params` instead.\n",
      "  warnings.warn(\n",
      "\n"
     ]
    },
    {
     "name": "stdout",
     "output_type": "stream",
     "text": [
      "SCORE:                                                                                                                 \n",
      "0.6878189483026403                                                                                                     \n",
      " 96%|████████████████████████████████████████████▏ | 96/100 [00:48<00:01,  2.40trial/s, best loss: -0.6878189483026403]"
     ]
    },
    {
     "name": "stderr",
     "output_type": "stream",
     "text": [
      "C:\\Users\\gowgi\\anaconda3\\lib\\site-packages\\xgboost\\sklearn.py:793: UserWarning: `eval_metric` in `fit` method is deprecated for better compatibility with scikit-learn, use `eval_metric` in constructor or`set_params` instead.\n",
      "  warnings.warn(\n",
      "\n",
      "C:\\Users\\gowgi\\anaconda3\\lib\\site-packages\\xgboost\\sklearn.py:793: UserWarning: `early_stopping_rounds` in `fit` method is deprecated for better compatibility with scikit-learn, use `early_stopping_rounds` in constructor or`set_params` instead.\n",
      "  warnings.warn(\n",
      "\n"
     ]
    },
    {
     "name": "stdout",
     "output_type": "stream",
     "text": [
      "SCORE:                                                                                                                 \n",
      "0.6878189483026403                                                                                                     \n",
      " 97%|████████████████████████████████████████████▌ | 97/100 [00:48<00:01,  2.49trial/s, best loss: -0.6878189483026403]"
     ]
    },
    {
     "name": "stderr",
     "output_type": "stream",
     "text": [
      "C:\\Users\\gowgi\\anaconda3\\lib\\site-packages\\xgboost\\sklearn.py:793: UserWarning: `eval_metric` in `fit` method is deprecated for better compatibility with scikit-learn, use `eval_metric` in constructor or`set_params` instead.\n",
      "  warnings.warn(\n",
      "\n",
      "C:\\Users\\gowgi\\anaconda3\\lib\\site-packages\\xgboost\\sklearn.py:793: UserWarning: `early_stopping_rounds` in `fit` method is deprecated for better compatibility with scikit-learn, use `early_stopping_rounds` in constructor or`set_params` instead.\n",
      "  warnings.warn(\n",
      "\n"
     ]
    },
    {
     "name": "stdout",
     "output_type": "stream",
     "text": [
      "SCORE:                                                                                                                 \n",
      "0.6878189483026403                                                                                                     \n",
      " 98%|█████████████████████████████████████████████ | 98/100 [00:49<00:00,  2.18trial/s, best loss: -0.6878189483026403]"
     ]
    },
    {
     "name": "stderr",
     "output_type": "stream",
     "text": [
      "C:\\Users\\gowgi\\anaconda3\\lib\\site-packages\\xgboost\\sklearn.py:793: UserWarning: `eval_metric` in `fit` method is deprecated for better compatibility with scikit-learn, use `eval_metric` in constructor or`set_params` instead.\n",
      "  warnings.warn(\n",
      "\n",
      "C:\\Users\\gowgi\\anaconda3\\lib\\site-packages\\xgboost\\sklearn.py:793: UserWarning: `early_stopping_rounds` in `fit` method is deprecated for better compatibility with scikit-learn, use `early_stopping_rounds` in constructor or`set_params` instead.\n",
      "  warnings.warn(\n",
      "\n"
     ]
    },
    {
     "name": "stdout",
     "output_type": "stream",
     "text": [
      "SCORE:                                                                                                                 \n",
      "0.6878189483026403                                                                                                     \n",
      " 99%|█████████████████████████████████████████████▌| 99/100 [00:49<00:00,  1.92trial/s, best loss: -0.6878189483026403]"
     ]
    },
    {
     "name": "stderr",
     "output_type": "stream",
     "text": [
      "C:\\Users\\gowgi\\anaconda3\\lib\\site-packages\\xgboost\\sklearn.py:793: UserWarning: `eval_metric` in `fit` method is deprecated for better compatibility with scikit-learn, use `eval_metric` in constructor or`set_params` instead.\n",
      "  warnings.warn(\n",
      "\n",
      "C:\\Users\\gowgi\\anaconda3\\lib\\site-packages\\xgboost\\sklearn.py:793: UserWarning: `early_stopping_rounds` in `fit` method is deprecated for better compatibility with scikit-learn, use `early_stopping_rounds` in constructor or`set_params` instead.\n",
      "  warnings.warn(\n",
      "\n"
     ]
    },
    {
     "name": "stdout",
     "output_type": "stream",
     "text": [
      "SCORE:                                                                                                                 \n",
      "0.6878189483026403                                                                                                     \n",
      "100%|█████████████████████████████████████████████| 100/100 [00:50<00:00,  1.97trial/s, best loss: -0.6878189483026403]\n"
     ]
    }
   ],
   "source": [
    "trials = Trials()\n",
    "\n",
    "best_hyperparams = fmin(fn = objective,\n",
    "                        space = space,\n",
    "                        algo = tpe.suggest,\n",
    "                        max_evals = 100,\n",
    "                        trials = trials)"
   ]
  },
  {
   "cell_type": "code",
   "execution_count": 41,
   "metadata": {},
   "outputs": [
    {
     "name": "stdout",
     "output_type": "stream",
     "text": [
      "The best hyperparameters are :  \n",
      "\n",
      "{'colsample_bytree': 0.6636556094746427, 'gamma': 2.566943575452556, 'max_depth': 12.0, 'min_child_weight': 5.0, 'reg_alpha': 99.0, 'reg_lambda': 0.27470948428760733}\n"
     ]
    }
   ],
   "source": [
    "print(\"The best hyperparameters are : \",\"\\n\")\n",
    "print(best_hyperparams)"
   ]
  },
  {
   "cell_type": "code",
   "execution_count": 42,
   "metadata": {},
   "outputs": [
    {
     "name": "stdout",
     "output_type": "stream",
     "text": [
      "XGBoost's prediction accuracy is: 69.25\n"
     ]
    }
   ],
   "source": [
    "xgb = XGBClassifier(base_score=0.5, booster='gbtree', colsample_bylevel=1,\n",
    "                   colsample_bynode=1, colsample_bytree=0.66, gamma=2.57,\n",
    "                   learning_rate=0.05, max_delta_step=0, max_depth=12,\n",
    "                   min_child_weight=5, missing=1, n_estimators=500,n_jobs=1,\n",
    "                   nthread=None, objective='binary:logistic', random_state=0,\n",
    "                   reg_alpha=99, reg_lambda=0.27, scale_pos_weight=1,\n",
    "                   seed=None, silent=None, subsample=1, verbosity=1)\n",
    "\n",
    "\n",
    "\n",
    "\n",
    "#training_start = time.perf_counter()\n",
    "xgb.fit(X_train, y_train)\n",
    "\n",
    "\n",
    "preds = xgb.predict(X_test)\n",
    "\n",
    "acc_xgb = (preds == y_test).sum().astype(float) / len(preds)*100\n",
    "\n",
    "print(\"XGBoost's prediction accuracy is: %3.2f\" % (acc_xgb))"
   ]
  },
  {
   "cell_type": "code",
   "execution_count": 43,
   "metadata": {},
   "outputs": [
    {
     "data": {
      "text/plain": [
       "array([0.18290594, 0.29402286, 0.24360041, ..., 0.17241332, 0.17241332,\n",
       "       0.1559246 ], dtype=float32)"
      ]
     },
     "execution_count": 43,
     "metadata": {},
     "output_type": "execute_result"
    }
   ],
   "source": [
    "Recidivism_Year_One = xgb.predict_proba(test)[:,1]\n",
    "Recidivism_Year_One"
   ]
  },
  {
   "cell_type": "code",
   "execution_count": 44,
   "metadata": {},
   "outputs": [],
   "source": [
    "prediction = pd.DataFrame(Recidivism_Year_One, columns=['Recidivism_Arrest_Year1']).to_csv('Recidivism_2.1.1A.csv')"
   ]
  }
 ],
 "metadata": {
  "kernelspec": {
   "display_name": "Python 3 (ipykernel)",
   "language": "python",
   "name": "python3"
  },
  "language_info": {
   "codemirror_mode": {
    "name": "ipython",
    "version": 3
   },
   "file_extension": ".py",
   "mimetype": "text/x-python",
   "name": "python",
   "nbconvert_exporter": "python",
   "pygments_lexer": "ipython3",
   "version": "3.9.7"
  }
 },
 "nbformat": 4,
 "nbformat_minor": 4
}
